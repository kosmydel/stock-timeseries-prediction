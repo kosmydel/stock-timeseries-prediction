{
 "cells": [
  {
   "cell_type": "code",
   "execution_count": 1,
   "metadata": {},
   "outputs": [],
   "source": [
    "%matplotlib inline\n",
    "\n",
    "import pandas as pd\n",
    "import numpy as np\n",
    "import matplotlib.pyplot as plt\n",
    "\n",
    "from darts import TimeSeries\n",
    "\n",
    "from darts.metrics import mape, mse, rmse, mae\n",
    "from darts.models.filtering.moving_average_filter import MovingAverageFilter\n",
    "\n",
    "from utils import print_metrics, plot_forecast, backtest, Dataset, TimeseriesExperiment\n",
    "\n",
    "import os"
   ]
  },
  {
   "cell_type": "code",
   "execution_count": 2,
   "metadata": {},
   "outputs": [],
   "source": [
    "FILE_NAME = \"data/electricity.txt\"\n",
    "\n",
    "\n",
    "def get_series_from_dataframe(dataframe, column_name):\n",
    "    # consts\n",
    "    TRAIN_DAYS = 60\n",
    "\n",
    "    s = TimeSeries.from_dataframe(\n",
    "        dataframe,\n",
    "        time_col=\"ds\",\n",
    "        value_cols=column_name,\n",
    "        freq=None,\n",
    "        fill_missing_dates=True,\n",
    "    )\n",
    "    s = s.slice_n_points_before(s.end_time(), TRAIN_DAYS * 24 * 60)\n",
    "    s = s.resample(\"1h\", method=\"pad\")\n",
    "\n",
    "    ma_filter = MovingAverageFilter(12)\n",
    "    s = ma_filter.filter(s)\n",
    "\n",
    "    # save to txt file for layer use\n",
    "    s.to_csv(FILE_NAME)\n",
    "\n",
    "    return s\n",
    "\n",
    "\n",
    "def get_series_from_dataframe_xgboost(df: pd.DataFrame) -> TimeSeries:\n",
    "    df[\"Global_active_power\"] = pd.to_numeric(\n",
    "        df[\"Global_active_power\"], errors=\"coerce\"\n",
    "    ).astype(np.float32)\n",
    "    df[\"Global_reactive_power\"] = pd.to_numeric(\n",
    "        df[\"Global_reactive_power\"], errors=\"coerce\"\n",
    "    ).astype(np.float32)\n",
    "    df[\"Voltage\"] = pd.to_numeric(df[\"Voltage\"], errors=\"coerce\").astype(np.float32)\n",
    "    df[\"Global_intensity\"] = pd.to_numeric(\n",
    "        df[\"Global_intensity\"], errors=\"coerce\"\n",
    "    ).astype(np.float32)\n",
    "    df[\"Sub_metering_1\"] = pd.to_numeric(df[\"Sub_metering_1\"], errors=\"coerce\").astype(\n",
    "        np.float32\n",
    "    )\n",
    "    df[\"Sub_metering_2\"] = pd.to_numeric(df[\"Sub_metering_2\"], errors=\"coerce\").astype(\n",
    "        np.float32\n",
    "    )\n",
    "    df[\"Sub_metering_3\"] = pd.to_numeric(df[\"Sub_metering_3\"], errors=\"coerce\").astype(\n",
    "        np.float32\n",
    "    )\n",
    "\n",
    "    # fill NA values with the previous value\n",
    "    df = df.ffill()\n",
    "\n",
    "    return get_series_from_dataframe(df, \"Global_active_power\")\n",
    "\n",
    "\n",
    "def load_electricity_data():\n",
    "    # try to read TimeSeries object from electricity.txt file\n",
    "    if os.path.exists(FILE_NAME):\n",
    "        print(f\"Reading from {FILE_NAME}\")\n",
    "        s = TimeSeries.from_csv(\n",
    "            FILE_NAME, time_col=\"ds\", value_cols=\"rolling_mean_12_Global_active_power\"\n",
    "        )\n",
    "        return s\n",
    "\n",
    "    df = pd.read_csv(\n",
    "        \"data/household_power_consumption.txt\",\n",
    "        sep=\";\",\n",
    "        parse_dates={\"ds\": [\"Date\", \"Time\"]},\n",
    "    )\n",
    "\n",
    "    return get_series_from_dataframe_xgboost(df)\n",
    "    "
   ]
  },
  {
   "cell_type": "markdown",
   "metadata": {},
   "source": [
    "## Constants\n"
   ]
  },
  {
   "cell_type": "code",
   "execution_count": 6,
   "metadata": {},
   "outputs": [],
   "source": [
    "HORIZONS = [1, 2, 3, 5, 7, 9, 10]"
   ]
  },
  {
   "cell_type": "markdown",
   "metadata": {},
   "source": [
    "## Load dataset"
   ]
  },
  {
   "cell_type": "code",
   "execution_count": 3,
   "metadata": {},
   "outputs": [
    {
     "name": "stdout",
     "output_type": "stream",
     "text": [
      "Reading from data/electricity.txt\n"
     ]
    }
   ],
   "source": [
    "Electricity_Dataset = Dataset(load_electricity_data(), \"electricity\")\n",
    "\n",
    "Electricity_Dataset.plot_train_test()"
   ]
  },
  {
   "cell_type": "markdown",
   "metadata": {},
   "source": [
    "## Naive experiment"
   ]
  },
  {
   "cell_type": "code",
   "execution_count": 4,
   "metadata": {},
   "outputs": [],
   "source": [
    "from darts.models import NaiveSeasonal\n",
    "\n",
    "naive_model = NaiveSeasonal(K=1)"
   ]
  },
  {
   "cell_type": "code",
   "execution_count": 7,
   "metadata": {},
   "outputs": [
    {
     "name": "stdout",
     "output_type": "stream",
     "text": [
      "electricity_NaiveSeasonal_1.json found - skipping...\n",
      "electricity_NaiveSeasonal_2.json found - skipping...\n",
      "electricity_NaiveSeasonal_3.json found - skipping...\n",
      "electricity_NaiveSeasonal_5.json found - skipping...\n",
      "electricity_NaiveSeasonal_7.json found - skipping...\n",
      "electricity_NaiveSeasonal_9.json found - skipping...\n",
      "electricity_NaiveSeasonal_10.json found - skipping...\n"
     ]
    }
   ],
   "source": [
    "for horizon in HORIZONS:\n",
    "    if os.path.exists(\n",
    "        f\"results/{Electricity_Dataset.name}_{naive_model.__class__.__name__}_{horizon}.json\"\n",
    "    ):\n",
    "        print(\n",
    "            f\"{Electricity_Dataset.name}_{naive_model.__class__.__name__}_{horizon}.json\",\n",
    "            \"found - skipping...\",\n",
    "        )\n",
    "        continue\n",
    "\n",
    "    xgb_experiment = TimeseriesExperiment(\n",
    "        naive_model,\n",
    "        Electricity_Dataset,\n",
    "        None,\n",
    "        use_pretrained_model=True,\n",
    "        forecast_horizon=horizon,\n",
    "        retrain=True,\n",
    "    )\n",
    "\n",
    "    xgb_experiment.run()"
   ]
  },
  {
   "cell_type": "markdown",
   "metadata": {},
   "source": [
    "## XGB Experiment"
   ]
  },
  {
   "cell_type": "code",
   "execution_count": 8,
   "metadata": {},
   "outputs": [],
   "source": [
    "from darts.models.forecasting.xgboost import XGBModel\n",
    "\n",
    "xgb_model = XGBModel(lags=24 * 7, output_chunk_length=100)"
   ]
  },
  {
   "cell_type": "code",
   "execution_count": 9,
   "metadata": {},
   "outputs": [
    {
     "name": "stdout",
     "output_type": "stream",
     "text": [
      "electricity_XGBModel_1.json found - skipping...\n",
      "electricity_XGBModel_2.json found - skipping...\n",
      "electricity_XGBModel_3.json found - skipping...\n",
      "electricity_XGBModel_5.json found - skipping...\n",
      "electricity_XGBModel_7.json found - skipping...\n",
      "electricity_XGBModel_9.json found - skipping...\n",
      "electricity_XGBModel_10.json found - skipping...\n"
     ]
    }
   ],
   "source": [
    "for horizon in HORIZONS:\n",
    "    if os.path.exists(f'results/{Electricity_Dataset.name}_{xgb_model.__class__.__name__}_{horizon}.json'):\n",
    "      print(f'{Electricity_Dataset.name}_{xgb_model.__class__.__name__}_{horizon}.json', 'found - skipping...')\n",
    "      continue\n",
    "\n",
    "    xgb_experiment = TimeseriesExperiment(\n",
    "        xgb_model,\n",
    "        Electricity_Dataset,\n",
    "        [],\n",
    "        use_pretrained_model=True,\n",
    "        forecast_horizon=horizon,\n",
    "        n_last_series_from_train_in_test=24 * 7,\n",
    "    )\n",
    "\n",
    "    xgb_experiment.run()"
   ]
  },
  {
   "cell_type": "markdown",
   "metadata": {},
   "source": [
    "## Arima"
   ]
  },
  {
   "cell_type": "code",
   "execution_count": 20,
   "metadata": {},
   "outputs": [
    {
     "name": "stdout",
     "output_type": "stream",
     "text": [
      "electricity_ARIMA_1.json found - skipping...\n",
      "electricity_ARIMA_2.json found - skipping...\n",
      "electricity_ARIMA_3.json found - skipping...\n",
      "electricity_ARIMA_5.json found - skipping...\n",
      "electricity_ARIMA_7.json found - skipping...\n",
      "electricity_ARIMA_9.json found - skipping...\n",
      "electricity_ARIMA_10.json found - skipping...\n"
     ]
    }
   ],
   "source": [
    "# arima\n",
    "from darts.models import ARIMA\n",
    "\n",
    "model = ARIMA()\n",
    "\n",
    "for horizon in HORIZONS:\n",
    "    if os.path.exists(\n",
    "        f\"results/{Electricity_Dataset.name}_{model.__class__.__name__}_{horizon}.json\"\n",
    "    ):\n",
    "        print(\n",
    "            f\"{Electricity_Dataset.name}_{model.__class__.__name__}_{horizon}.json\",\n",
    "            \"found - skipping...\",\n",
    "        )\n",
    "        continue\n",
    "\n",
    "    experiment = TimeseriesExperiment(\n",
    "        model,\n",
    "        Electricity_Dataset,\n",
    "        {\"p\": [1, 3, 5], \"d\": [1], \"q\": [0]},\n",
    "        retrain=True,\n",
    "        forecast_horizon=horizon,\n",
    "    )\n",
    "\n",
    "    experiment.run()"
   ]
  },
  {
   "cell_type": "markdown",
   "metadata": {},
   "source": [
    "# Prophet"
   ]
  },
  {
   "cell_type": "code",
   "execution_count": 21,
   "metadata": {},
   "outputs": [
    {
     "name": "stdout",
     "output_type": "stream",
     "text": [
      "electricity_Prophet_1.json found - skipping...\n",
      "electricity_Prophet_2.json found - skipping...\n",
      "electricity_Prophet_3.json found - skipping...\n",
      "electricity_Prophet_5.json found - skipping...\n",
      "electricity_Prophet_7.json found - skipping...\n",
      "electricity_Prophet_9.json found - skipping...\n",
      "electricity_Prophet_10.json found - skipping...\n"
     ]
    }
   ],
   "source": [
    "from darts.models import Prophet\n",
    "\n",
    "prophet = Prophet()\n",
    "\n",
    "for horizon in HORIZONS:\n",
    "  if os.path.exists(f'results/{Electricity_Dataset.name}_{prophet.__class__.__name__}_{horizon}.json'):\n",
    "    print(f'{Electricity_Dataset.name}_{prophet.__class__.__name__}_{horizon}.json', 'found - skipping...')\n",
    "    continue\n",
    "\n",
    "  prophet_experiment = TimeseriesExperiment(\n",
    "    prophet,\n",
    "    Electricity_Dataset,\n",
    "    { },\n",
    "    retrain=True,\n",
    "    forecast_horizon=horizon,\n",
    "  )\n",
    "\n",
    "  prophet_experiment.run()"
   ]
  },
  {
   "cell_type": "markdown",
   "metadata": {},
   "source": [
    "# TFT"
   ]
  },
  {
   "cell_type": "code",
   "execution_count": 22,
   "metadata": {},
   "outputs": [],
   "source": [
    "# we don't have future covariate data\n",
    "\n",
    "# from darts.models import TFTModel\n",
    "\n",
    "# for horizon in HORIZONS:\n",
    "#     if os.path.exists(f\"results/{Electricity_Dataset.name}_TFTModel_{horizon}.json\"):\n",
    "#         print(f\"{Electricity_Dataset.name}_TFTModel_{horizon}.json\", \"found - skipping...\")\n",
    "#         continue\n",
    "\n",
    "#     model = TFTModel(\n",
    "#         input_chunk_length=24 * 7,\n",
    "#         output_chunk_length=horizon,\n",
    "#         n_epochs=100,\n",
    "#         model_name=\"TFTModel\",\n",
    "#     )\n",
    "\n",
    "#     tft_experiment = TimeseriesExperiment(\n",
    "#         model,\n",
    "#         Electricity_Dataset,\n",
    "#         {},\n",
    "#         retrain=True,\n",
    "#         forecast_horizon=horizon,\n",
    "#     )    \n",
    "\n",
    "#     tft_experiment.run()\n"
   ]
  },
  {
   "cell_type": "code",
   "execution_count": null,
   "metadata": {},
   "outputs": [],
   "source": []
  }
 ],
 "metadata": {
  "kernelspec": {
   "display_name": "Python 3",
   "language": "python",
   "name": "python3"
  },
  "language_info": {
   "codemirror_mode": {
    "name": "ipython",
    "version": 3
   },
   "file_extension": ".py",
   "mimetype": "text/x-python",
   "name": "python",
   "nbconvert_exporter": "python",
   "pygments_lexer": "ipython3",
   "version": "3.11.8"
  }
 },
 "nbformat": 4,
 "nbformat_minor": 2
}
