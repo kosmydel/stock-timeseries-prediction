{
 "cells": [
  {
   "cell_type": "code",
   "execution_count": 2,
   "metadata": {},
   "outputs": [],
   "source": [
    "%matplotlib inline\n",
    "\n",
    "import pandas as pd\n",
    "import numpy as np\n",
    "import matplotlib.pyplot as plt\n",
    "\n",
    "from darts import TimeSeries\n",
    "\n",
    "from darts.metrics import mape, mse, rmse, mae\n",
    "from darts.models.filtering.moving_average_filter import MovingAverageFilter\n",
    "\n",
    "from utils import print_metrics, plot_forecast, backtest, Dataset, TimeseriesExperiment\n",
    "\n",
    "import pickle\n",
    "\n",
    "import os"
   ]
  },
  {
   "cell_type": "code",
   "execution_count": 3,
   "metadata": {},
   "outputs": [],
   "source": [
    "def get_series_from_dataframe(dataframe, column_name):\n",
    "  # consts \n",
    "  TRAIN_DAYS = 60\n",
    "  PREDICTION_HOURS = 24\n",
    "\n",
    "  s = TimeSeries.from_dataframe(dataframe, time_col='ds', value_cols=column_name, freq=None, fill_missing_dates=True)\n",
    "  s = s.slice_n_points_before(s.end_time(), TRAIN_DAYS*24*60)\n",
    "  s = s.resample('10min', method='pad')\n",
    "\n",
    "  ma_filter = MovingAverageFilter(12)\n",
    "  s = ma_filter.filter(s)\n",
    "\n",
    "  return s\n",
    "\n",
    "def get_series_from_dataframe_xgboost(df: pd.DataFrame) -> TimeSeries:\n",
    "  df['Global_active_power'] = pd.to_numeric(df['Global_active_power'], errors='coerce').astype(np.float32)\n",
    "  df['Global_reactive_power'] = pd.to_numeric(df['Global_reactive_power'], errors='coerce').astype(np.float32)\n",
    "  df['Voltage'] = pd.to_numeric(df['Voltage'], errors='coerce').astype(np.float32)\n",
    "  df['Global_intensity'] = pd.to_numeric(df['Global_intensity'], errors='coerce').astype(np.float32)\n",
    "  df['Sub_metering_1'] = pd.to_numeric(df['Sub_metering_1'], errors='coerce').astype(np.float32)\n",
    "  df['Sub_metering_2'] = pd.to_numeric(df['Sub_metering_2'], errors='coerce').astype(np.float32)\n",
    "  df['Sub_metering_3'] = pd.to_numeric(df['Sub_metering_3'], errors='coerce').astype(np.float32)\n",
    "\n",
    "  # fill NA values with the previous value\n",
    "  df = df.ffill()\n",
    "\n",
    "  return get_series_from_dataframe(df, 'Global_active_power')\n",
    "\n",
    "def load_electricity_data(): \n",
    "  df = pd.read_csv('data/household_power_consumption.txt', sep=';', parse_dates={'ds': ['Date', 'Time']})\n",
    "\n",
    "  return get_series_from_dataframe_xgboost(df)\n"
   ]
  },
  {
   "cell_type": "code",
   "execution_count": 4,
   "metadata": {},
   "outputs": [
    {
     "name": "stderr",
     "output_type": "stream",
     "text": [
      "/var/folders/fq/7hdv8yqd3ld281d0kdv2ylc80000gn/T/ipykernel_58395/1012107434.py:30: DtypeWarning: Columns (2,3,4,5,6,7) have mixed types. Specify dtype option on import or set low_memory=False.\n",
      "  df = pd.read_csv('data/household_power_consumption.txt', sep=';', parse_dates={'ds': ['Date', 'Time']})\n",
      "/var/folders/fq/7hdv8yqd3ld281d0kdv2ylc80000gn/T/ipykernel_58395/1012107434.py:30: UserWarning: Parsing dates in %d/%m/%Y %H:%M:%S format when dayfirst=False (the default) was specified. Pass `dayfirst=True` or specify a format to silence this warning.\n",
      "  df = pd.read_csv('data/household_power_consumption.txt', sep=';', parse_dates={'ds': ['Date', 'Time']})\n"
     ]
    }
   ],
   "source": [
    "XGBoost_dataset = Dataset(load_electricity_data(), 'electricity')"
   ]
  },
  {
   "cell_type": "code",
   "execution_count": 5,
   "metadata": {},
   "outputs": [],
   "source": [
    "from darts.models.forecasting.xgboost import XGBModel\n",
    "\n",
    "xgb_model = XGBModel(\n",
    "  lags=24 * 7 * 6,\n",
    "  output_chunk_length=100,\n",
    ")\n",
    "\n",
    "xgb_experiment = TimeseriesExperiment(xgb_model, XGBoost_dataset, 'electricity', { 'lags': 24 * 7 * 6, 'output_chunk_length': 100, 'forecast_horizon': 24 })"
   ]
  },
  {
   "cell_type": "code",
   "execution_count": 6,
   "metadata": {},
   "outputs": [
    {
     "name": "stderr",
     "output_type": "stream",
     "text": [
      "ValueError: Please pass exactly one of the arguments 'forecast_horizon', 'val_target_series' or 'use_fitted_values'.\n"
     ]
    },
    {
     "name": "stdout",
     "output_type": "stream",
     "text": [
      "URWANO electricity\n"
     ]
    },
    {
     "ename": "ValueError",
     "evalue": "Please pass exactly one of the arguments 'forecast_horizon', 'val_target_series' or 'use_fitted_values'.",
     "output_type": "error",
     "traceback": [
      "\u001b[0;31m---------------------------------------------------------------------------\u001b[0m",
      "\u001b[0;31mValueError\u001b[0m                                Traceback (most recent call last)",
      "Cell \u001b[0;32mIn[6], line 1\u001b[0m\n\u001b[0;32m----> 1\u001b[0m xgb_experiment\u001b[38;5;241m.\u001b[39mrun()\n",
      "File \u001b[0;32m~/private/ED/stock-timeseries-prediction/utils.py:75\u001b[0m, in \u001b[0;36mTimeseriesExperiment.run\u001b[0;34m(self)\u001b[0m\n\u001b[1;32m     74\u001b[0m \u001b[38;5;28;01mdef\u001b[39;00m \u001b[38;5;21mrun\u001b[39m(\u001b[38;5;28mself\u001b[39m):\n\u001b[0;32m---> 75\u001b[0m     \u001b[38;5;28mself\u001b[39m\u001b[38;5;241m.\u001b[39mload_or_find_parameters()\n\u001b[1;32m     77\u001b[0m     result \u001b[38;5;241m=\u001b[39m \u001b[38;5;28mself\u001b[39m\u001b[38;5;241m.\u001b[39mtrained_model\u001b[38;5;241m.\u001b[39mhistorical_forecasts(\u001b[38;5;28mself\u001b[39m\u001b[38;5;241m.\u001b[39mdataset\u001b[38;5;241m.\u001b[39mseries, forecast_horizon\u001b[38;5;241m=\u001b[39m\u001b[38;5;28mself\u001b[39m\u001b[38;5;241m.\u001b[39mforecast_horizon)\n\u001b[1;32m     79\u001b[0m     metrics \u001b[38;5;241m=\u001b[39m calculate_metrics(\u001b[38;5;28mself\u001b[39m\u001b[38;5;241m.\u001b[39mdataset\u001b[38;5;241m.\u001b[39mseries, result)\n",
      "File \u001b[0;32m~/private/ED/stock-timeseries-prediction/utils.py:61\u001b[0m, in \u001b[0;36mTimeseriesExperiment.load_or_find_parameters\u001b[0;34m(self)\u001b[0m\n\u001b[1;32m     59\u001b[0m \u001b[38;5;28mself\u001b[39m\u001b[38;5;241m.\u001b[39mtrained_model \u001b[38;5;241m=\u001b[39m load_model(model_name)\n\u001b[1;32m     60\u001b[0m \u001b[38;5;28;01mif\u001b[39;00m \u001b[38;5;28mself\u001b[39m\u001b[38;5;241m.\u001b[39mtrained_model \u001b[38;5;129;01mis\u001b[39;00m \u001b[38;5;28;01mNone\u001b[39;00m:\n\u001b[0;32m---> 61\u001b[0m     \u001b[38;5;28mself\u001b[39m\u001b[38;5;241m.\u001b[39mfind_parameters()\n\u001b[1;32m     62\u001b[0m     save_model(model_name, \u001b[38;5;28mself\u001b[39m\u001b[38;5;241m.\u001b[39mmodel)\n",
      "File \u001b[0;32m~/private/ED/stock-timeseries-prediction/utils.py:70\u001b[0m, in \u001b[0;36mTimeseriesExperiment.find_parameters\u001b[0;34m(self)\u001b[0m\n\u001b[1;32m     68\u001b[0m \u001b[38;5;28;01melse\u001b[39;00m:\n\u001b[1;32m     69\u001b[0m     \u001b[38;5;28mprint\u001b[39m(\u001b[38;5;124m'\u001b[39m\u001b[38;5;124mURWANO\u001b[39m\u001b[38;5;124m'\u001b[39m, \u001b[38;5;28mself\u001b[39m\u001b[38;5;241m.\u001b[39mparameters)\n\u001b[0;32m---> 70\u001b[0m     model, parameters, metric \u001b[38;5;241m=\u001b[39m \u001b[38;5;28mself\u001b[39m\u001b[38;5;241m.\u001b[39mmodel\u001b[38;5;241m.\u001b[39mgridsearch(\u001b[38;5;28mself\u001b[39m\u001b[38;5;241m.\u001b[39mparameters, \u001b[38;5;28mself\u001b[39m\u001b[38;5;241m.\u001b[39mdataset\u001b[38;5;241m.\u001b[39mseries, verbose\u001b[38;5;241m=\u001b[39m\u001b[38;5;28;01mTrue\u001b[39;00m)\n\u001b[1;32m     71\u001b[0m     \u001b[38;5;28mself\u001b[39m\u001b[38;5;241m.\u001b[39mtrained_model \u001b[38;5;241m=\u001b[39m model\n\u001b[1;32m     72\u001b[0m     \u001b[38;5;28mprint\u001b[39m(\u001b[38;5;124m'\u001b[39m\u001b[38;5;124mBest parameters:\u001b[39m\u001b[38;5;124m'\u001b[39m, parameters, \u001b[38;5;124m'\u001b[39m\u001b[38;5;124mMetric:\u001b[39m\u001b[38;5;124m'\u001b[39m, metric)\n",
      "File \u001b[0;32m/opt/anaconda3/lib/python3.11/site-packages/darts/models/forecasting/forecasting_model.py:1478\u001b[0m, in \u001b[0;36mForecastingModel.gridsearch\u001b[0;34m(model_class, parameters, series, past_covariates, future_covariates, forecast_horizon, stride, start, start_format, last_points_only, show_warnings, val_series, use_fitted_values, metric, reduction, verbose, n_jobs, n_random_samples, fit_kwargs, predict_kwargs)\u001b[0m\n\u001b[1;32m   1331\u001b[0m \u001b[38;5;129m@classmethod\u001b[39m\n\u001b[1;32m   1332\u001b[0m \u001b[38;5;28;01mdef\u001b[39;00m \u001b[38;5;21mgridsearch\u001b[39m(\n\u001b[1;32m   1333\u001b[0m     model_class,\n\u001b[0;32m   (...)\u001b[0m\n\u001b[1;32m   1352\u001b[0m     predict_kwargs: Optional[Dict[\u001b[38;5;28mstr\u001b[39m, Any]] \u001b[38;5;241m=\u001b[39m \u001b[38;5;28;01mNone\u001b[39;00m,\n\u001b[1;32m   1353\u001b[0m ) \u001b[38;5;241m-\u001b[39m\u001b[38;5;241m>\u001b[39m Tuple[\u001b[38;5;124m\"\u001b[39m\u001b[38;5;124mForecastingModel\u001b[39m\u001b[38;5;124m\"\u001b[39m, Dict[\u001b[38;5;28mstr\u001b[39m, Any], \u001b[38;5;28mfloat\u001b[39m]:\n\u001b[1;32m   1354\u001b[0m \u001b[38;5;250m    \u001b[39m\u001b[38;5;124;03m\"\"\"\u001b[39;00m\n\u001b[1;32m   1355\u001b[0m \u001b[38;5;124;03m    Find the best hyper-parameters among a given set using a grid search.\u001b[39;00m\n\u001b[1;32m   1356\u001b[0m \n\u001b[0;32m   (...)\u001b[0m\n\u001b[1;32m   1476\u001b[0m \u001b[38;5;124;03m        and metric score for the best hyper-parameters.\u001b[39;00m\n\u001b[1;32m   1477\u001b[0m \u001b[38;5;124;03m    \"\"\"\u001b[39;00m\n\u001b[0;32m-> 1478\u001b[0m     raise_if_not(\n\u001b[1;32m   1479\u001b[0m         (forecast_horizon \u001b[38;5;129;01mis\u001b[39;00m \u001b[38;5;129;01mnot\u001b[39;00m \u001b[38;5;28;01mNone\u001b[39;00m)\n\u001b[1;32m   1480\u001b[0m         \u001b[38;5;241m+\u001b[39m (val_series \u001b[38;5;129;01mis\u001b[39;00m \u001b[38;5;129;01mnot\u001b[39;00m \u001b[38;5;28;01mNone\u001b[39;00m)\n\u001b[1;32m   1481\u001b[0m         \u001b[38;5;241m+\u001b[39m use_fitted_values\n\u001b[1;32m   1482\u001b[0m         \u001b[38;5;241m==\u001b[39m \u001b[38;5;241m1\u001b[39m,\n\u001b[1;32m   1483\u001b[0m         \u001b[38;5;124m\"\u001b[39m\u001b[38;5;124mPlease pass exactly one of the arguments \u001b[39m\u001b[38;5;124m'\u001b[39m\u001b[38;5;124mforecast_horizon\u001b[39m\u001b[38;5;124m'\u001b[39m\u001b[38;5;124m, \u001b[39m\u001b[38;5;124m\"\u001b[39m\n\u001b[1;32m   1484\u001b[0m         \u001b[38;5;124m\"\u001b[39m\u001b[38;5;124m'\u001b[39m\u001b[38;5;124mval_target_series\u001b[39m\u001b[38;5;124m'\u001b[39m\u001b[38;5;124m or \u001b[39m\u001b[38;5;124m'\u001b[39m\u001b[38;5;124muse_fitted_values\u001b[39m\u001b[38;5;124m'\u001b[39m\u001b[38;5;124m.\u001b[39m\u001b[38;5;124m\"\u001b[39m,\n\u001b[1;32m   1485\u001b[0m         logger,\n\u001b[1;32m   1486\u001b[0m     )\n\u001b[1;32m   1488\u001b[0m     \u001b[38;5;28;01mif\u001b[39;00m \u001b[38;5;129;01mnot\u001b[39;00m \u001b[38;5;28misinstance\u001b[39m(parameters, \u001b[38;5;28mdict\u001b[39m):\n\u001b[1;32m   1489\u001b[0m         raise_log(\n\u001b[1;32m   1490\u001b[0m             \u001b[38;5;167;01mValueError\u001b[39;00m(\n\u001b[1;32m   1491\u001b[0m                 \u001b[38;5;124mf\u001b[39m\u001b[38;5;124m\"\u001b[39m\u001b[38;5;124m`parameters` should be a dictionary, received a: \u001b[39m\u001b[38;5;132;01m{\u001b[39;00m\u001b[38;5;28mtype\u001b[39m(parameters)\u001b[38;5;132;01m}\u001b[39;00m\u001b[38;5;124m.\u001b[39m\u001b[38;5;124m\"\u001b[39m\n\u001b[1;32m   1492\u001b[0m             )\n\u001b[1;32m   1493\u001b[0m         )\n",
      "File \u001b[0;32m/opt/anaconda3/lib/python3.11/site-packages/darts/logging.py:78\u001b[0m, in \u001b[0;36mraise_if_not\u001b[0;34m(condition, message, logger)\u001b[0m\n\u001b[1;32m     76\u001b[0m \u001b[38;5;28;01mif\u001b[39;00m \u001b[38;5;129;01mnot\u001b[39;00m condition:\n\u001b[1;32m     77\u001b[0m     logger\u001b[38;5;241m.\u001b[39merror(\u001b[38;5;124m\"\u001b[39m\u001b[38;5;124mValueError: \u001b[39m\u001b[38;5;124m\"\u001b[39m \u001b[38;5;241m+\u001b[39m message)\n\u001b[0;32m---> 78\u001b[0m     \u001b[38;5;28;01mraise\u001b[39;00m \u001b[38;5;167;01mValueError\u001b[39;00m(message)\n",
      "\u001b[0;31mValueError\u001b[0m: Please pass exactly one of the arguments 'forecast_horizon', 'val_target_series' or 'use_fitted_values'."
     ]
    }
   ],
   "source": [
    "xgb_experiment.run()"
   ]
  },
  {
   "cell_type": "code",
   "execution_count": null,
   "metadata": {},
   "outputs": [],
   "source": []
  }
 ],
 "metadata": {
  "kernelspec": {
   "display_name": "Python 3",
   "language": "python",
   "name": "python3"
  },
  "language_info": {
   "codemirror_mode": {
    "name": "ipython",
    "version": 3
   },
   "file_extension": ".py",
   "mimetype": "text/x-python",
   "name": "python",
   "nbconvert_exporter": "python",
   "pygments_lexer": "ipython3",
   "version": "3.11.7"
  }
 },
 "nbformat": 4,
 "nbformat_minor": 2
}
