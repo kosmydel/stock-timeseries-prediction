{
 "cells": [
  {
   "cell_type": "code",
   "execution_count": 17,
   "metadata": {},
   "outputs": [],
   "source": [
    "%matplotlib inline\n",
    "\n",
    "import pandas as pd\n",
    "import numpy as np\n",
    "import matplotlib.pyplot as plt\n",
    "\n",
    "from darts import TimeSeries\n",
    "\n",
    "from darts.metrics import mape, mse, rmse, mae\n",
    "from darts.models.filtering.moving_average_filter import MovingAverageFilter\n",
    "\n",
    "from utils import print_metrics, plot_forecast, backtest, Dataset, TimeseriesExperiment\n",
    "\n",
    "import pickle\n",
    "\n",
    "import os"
   ]
  },
  {
   "cell_type": "code",
   "execution_count": 18,
   "metadata": {},
   "outputs": [],
   "source": [
    "FILE_NAME = 'data/electricity.txt'\n",
    "\n",
    "def get_series_from_dataframe(dataframe, column_name):\n",
    "  # consts \n",
    "  TRAIN_DAYS = 60\n",
    "\n",
    "  s = TimeSeries.from_dataframe(dataframe, time_col='ds', value_cols=column_name, freq=None, fill_missing_dates=True)\n",
    "  s = s.slice_n_points_before(s.end_time(), TRAIN_DAYS*24*60)\n",
    "  s = s.resample('1h', method='pad')\n",
    "\n",
    "  ma_filter = MovingAverageFilter(12)\n",
    "  s = ma_filter.filter(s)\n",
    "\n",
    "  # save to txt file for layer use\n",
    "  s.to_csv()\n",
    "\n",
    "  return s\n",
    "\n",
    "def get_series_from_dataframe_xgboost(df: pd.DataFrame) -> TimeSeries:\n",
    "  df['Global_active_power'] = pd.to_numeric(df['Global_active_power'], errors='coerce').astype(np.float32)\n",
    "  df['Global_reactive_power'] = pd.to_numeric(df['Global_reactive_power'], errors='coerce').astype(np.float32)\n",
    "  df['Voltage'] = pd.to_numeric(df['Voltage'], errors='coerce').astype(np.float32)\n",
    "  df['Global_intensity'] = pd.to_numeric(df['Global_intensity'], errors='coerce').astype(np.float32)\n",
    "  df['Sub_metering_1'] = pd.to_numeric(df['Sub_metering_1'], errors='coerce').astype(np.float32)\n",
    "  df['Sub_metering_2'] = pd.to_numeric(df['Sub_metering_2'], errors='coerce').astype(np.float32)\n",
    "  df['Sub_metering_3'] = pd.to_numeric(df['Sub_metering_3'], errors='coerce').astype(np.float32)\n",
    "\n",
    "  # fill NA values with the previous value\n",
    "  df = df.ffill()\n",
    "\n",
    "  return get_series_from_dataframe(df, 'Global_active_power')\n",
    "\n",
    "def load_electricity_data():\n",
    "  # try to read TimeSeries object from electricity.txt file\n",
    "  if os.path.exists(FILE_NAME):\n",
    "    s = TimeSeries.from_csv('data/electricity.txt', time_col='ds', value_cols='rolling_mean_12_Global_active_power')\n",
    "    return s\n",
    "\n",
    "  df = pd.read_csv('data/household_power_consumption.txt', sep=';', parse_dates={'ds': ['Date', 'Time']})\n",
    "\n",
    "  return get_series_from_dataframe_xgboost(df)\n"
   ]
  },
  {
   "cell_type": "markdown",
   "metadata": {},
   "source": [
    "## Constants\n"
   ]
  },
  {
   "cell_type": "code",
   "execution_count": 19,
   "metadata": {},
   "outputs": [],
   "source": [
    "HORIZONS = [1, 2, 3, 5, 10]"
   ]
  },
  {
   "cell_type": "markdown",
   "metadata": {},
   "source": [
    "## Load dataset"
   ]
  },
  {
   "cell_type": "code",
   "execution_count": 20,
   "metadata": {},
   "outputs": [],
   "source": [
    "Electricity_Dataset = Dataset(load_electricity_data(), 'electricity')"
   ]
  },
  {
   "cell_type": "markdown",
   "metadata": {},
   "source": [
    "## Naive experiment"
   ]
  },
  {
   "cell_type": "code",
   "execution_count": 21,
   "metadata": {},
   "outputs": [],
   "source": [
    "from darts.models import NaiveSeasonal\n",
    "\n",
    "naive_model = NaiveSeasonal(K=1)"
   ]
  },
  {
   "cell_type": "code",
   "execution_count": 22,
   "metadata": {},
   "outputs": [
    {
     "name": "stderr",
     "output_type": "stream",
     "text": [
      "ValueError: LocalForecastingModel does not support historical forecasting with `retrain` set to `False`. For now, this is only supported with GlobalForecastingModels such as TorchForecastingModels. For more information, read the documentation for `retrain` in `historical_forecasts()`\n"
     ]
    },
    {
     "ename": "ValueError",
     "evalue": "LocalForecastingModel does not support historical forecasting with `retrain` set to `False`. For now, this is only supported with GlobalForecastingModels such as TorchForecastingModels. For more information, read the documentation for `retrain` in `historical_forecasts()`",
     "output_type": "error",
     "traceback": [
      "\u001b[0;31m---------------------------------------------------------------------------\u001b[0m",
      "\u001b[0;31mValueError\u001b[0m                                Traceback (most recent call last)",
      "Cell \u001b[0;32mIn[22], line 8\u001b[0m\n\u001b[1;32m      4\u001b[0m   \u001b[38;5;28;01mcontinue\u001b[39;00m\n\u001b[1;32m      6\u001b[0m xgb_experiment \u001b[38;5;241m=\u001b[39m TimeseriesExperiment(naive_model, Electricity_Dataset, \u001b[38;5;28;01mNone\u001b[39;00m, use_pretrained_model\u001b[38;5;241m=\u001b[39m\u001b[38;5;28;01mTrue\u001b[39;00m, forecast_horizon\u001b[38;5;241m=\u001b[39mhorizon)\n\u001b[0;32m----> 8\u001b[0m xgb_experiment\u001b[38;5;241m.\u001b[39mrun()\n",
      "File \u001b[0;32m~/private/ED/stock-timeseries-prediction/utils.py:98\u001b[0m, in \u001b[0;36mTimeseriesExperiment.run\u001b[0;34m(self)\u001b[0m\n\u001b[1;32m     95\u001b[0m \u001b[38;5;28;01mdef\u001b[39;00m \u001b[38;5;21mrun\u001b[39m(\u001b[38;5;28mself\u001b[39m):\n\u001b[1;32m     96\u001b[0m     \u001b[38;5;28mself\u001b[39m\u001b[38;5;241m.\u001b[39mload_or_train()\n\u001b[0;32m---> 98\u001b[0m     result \u001b[38;5;241m=\u001b[39m \u001b[38;5;28mself\u001b[39m\u001b[38;5;241m.\u001b[39mtrained_model\u001b[38;5;241m.\u001b[39mhistorical_forecasts(\n\u001b[1;32m     99\u001b[0m         \u001b[38;5;28mself\u001b[39m\u001b[38;5;241m.\u001b[39mdataset\u001b[38;5;241m.\u001b[39mseries, forecast_horizon\u001b[38;5;241m=\u001b[39m\u001b[38;5;28mself\u001b[39m\u001b[38;5;241m.\u001b[39mforecast_horizon, retrain\u001b[38;5;241m=\u001b[39m\u001b[38;5;28;01mFalse\u001b[39;00m\n\u001b[1;32m    100\u001b[0m     )\n\u001b[1;32m    102\u001b[0m     metrics \u001b[38;5;241m=\u001b[39m calculate_metrics(\u001b[38;5;28mself\u001b[39m\u001b[38;5;241m.\u001b[39mdataset\u001b[38;5;241m.\u001b[39mseries, result)\n\u001b[1;32m    103\u001b[0m     metrics[\u001b[38;5;124m\"\u001b[39m\u001b[38;5;124mmodel\u001b[39m\u001b[38;5;124m\"\u001b[39m] \u001b[38;5;241m=\u001b[39m \u001b[38;5;28mself\u001b[39m\u001b[38;5;241m.\u001b[39mmodel\u001b[38;5;241m.\u001b[39m\u001b[38;5;18m__class__\u001b[39m\u001b[38;5;241m.\u001b[39m\u001b[38;5;18m__name__\u001b[39m\n",
      "File \u001b[0;32m/opt/anaconda3/lib/python3.11/site-packages/darts/utils/utils.py:178\u001b[0m, in \u001b[0;36m_with_sanity_checks.<locals>.decorator.<locals>.sanitized_method\u001b[0;34m(self, *args, **kwargs)\u001b[0m\n\u001b[1;32m    175\u001b[0m     only_args\u001b[38;5;241m.\u001b[39mpop(\u001b[38;5;124m\"\u001b[39m\u001b[38;5;124mself\u001b[39m\u001b[38;5;124m\"\u001b[39m)\n\u001b[1;32m    177\u001b[0m     \u001b[38;5;28mgetattr\u001b[39m(\u001b[38;5;28mself\u001b[39m, sanity_check_method)(\u001b[38;5;241m*\u001b[39monly_args\u001b[38;5;241m.\u001b[39mvalues(), \u001b[38;5;241m*\u001b[39m\u001b[38;5;241m*\u001b[39monly_kwargs)\n\u001b[0;32m--> 178\u001b[0m \u001b[38;5;28;01mreturn\u001b[39;00m method_to_sanitize(\u001b[38;5;28mself\u001b[39m, \u001b[38;5;241m*\u001b[39monly_args\u001b[38;5;241m.\u001b[39mvalues(), \u001b[38;5;241m*\u001b[39m\u001b[38;5;241m*\u001b[39monly_kwargs)\n",
      "File \u001b[0;32m/opt/anaconda3/lib/python3.11/site-packages/darts/models/forecasting/forecasting_model.py:773\u001b[0m, in \u001b[0;36mForecastingModel.historical_forecasts\u001b[0;34m(self, series, past_covariates, future_covariates, num_samples, train_length, start, start_format, forecast_horizon, stride, retrain, overlap_end, last_points_only, verbose, show_warnings, predict_likelihood_parameters, enable_optimization, fit_kwargs, predict_kwargs)\u001b[0m\n\u001b[1;32m    764\u001b[0m \u001b[38;5;66;03m# we can directly abort if retrain is False and fit hasn't been called before\u001b[39;00m\n\u001b[1;32m    765\u001b[0m raise_if(\n\u001b[1;32m    766\u001b[0m     \u001b[38;5;129;01mnot\u001b[39;00m model\u001b[38;5;241m.\u001b[39m_fit_called \u001b[38;5;129;01mand\u001b[39;00m retrain \u001b[38;5;129;01mis\u001b[39;00m \u001b[38;5;28;01mFalse\u001b[39;00m,\n\u001b[1;32m    767\u001b[0m     \u001b[38;5;124m\"\u001b[39m\u001b[38;5;124mThe model has not been fitted yet, and `retrain` is ``False``. \u001b[39m\u001b[38;5;124m\"\u001b[39m\n\u001b[0;32m   (...)\u001b[0m\n\u001b[1;32m    770\u001b[0m     logger,\n\u001b[1;32m    771\u001b[0m )\n\u001b[0;32m--> 773\u001b[0m raise_if(\n\u001b[1;32m    774\u001b[0m     (\u001b[38;5;28misinstance\u001b[39m(retrain, Callable) \u001b[38;5;129;01mor\u001b[39;00m \u001b[38;5;28mint\u001b[39m(retrain) \u001b[38;5;241m!=\u001b[39m \u001b[38;5;241m1\u001b[39m)\n\u001b[1;32m    775\u001b[0m     \u001b[38;5;129;01mand\u001b[39;00m (\u001b[38;5;129;01mnot\u001b[39;00m model\u001b[38;5;241m.\u001b[39m_supports_non_retrainable_historical_forecasts),\n\u001b[1;32m    776\u001b[0m     \u001b[38;5;124mf\u001b[39m\u001b[38;5;124m\"\u001b[39m\u001b[38;5;132;01m{\u001b[39;00mbase_class_name\u001b[38;5;132;01m}\u001b[39;00m\u001b[38;5;124m does not support historical forecasting with `retrain` set to `False`. \u001b[39m\u001b[38;5;124m\"\u001b[39m\n\u001b[1;32m    777\u001b[0m     \u001b[38;5;124mf\u001b[39m\u001b[38;5;124m\"\u001b[39m\u001b[38;5;124mFor now, this is only supported with GlobalForecastingModels such as TorchForecastingModels. \u001b[39m\u001b[38;5;124m\"\u001b[39m\n\u001b[1;32m    778\u001b[0m     \u001b[38;5;124mf\u001b[39m\u001b[38;5;124m\"\u001b[39m\u001b[38;5;124mFor more information, read the documentation for `retrain` in `historical_forecasts()`\u001b[39m\u001b[38;5;124m\"\u001b[39m,\n\u001b[1;32m    779\u001b[0m     logger,\n\u001b[1;32m    780\u001b[0m )\n\u001b[1;32m    782\u001b[0m \u001b[38;5;28;01mif\u001b[39;00m train_length \u001b[38;5;129;01mand\u001b[39;00m \u001b[38;5;129;01mnot\u001b[39;00m \u001b[38;5;28misinstance\u001b[39m(train_length, \u001b[38;5;28mint\u001b[39m):\n\u001b[1;32m    783\u001b[0m     raise_log(\n\u001b[1;32m    784\u001b[0m         \u001b[38;5;167;01mTypeError\u001b[39;00m(\u001b[38;5;124m\"\u001b[39m\u001b[38;5;124mIf not None, train_length needs to be an integer.\u001b[39m\u001b[38;5;124m\"\u001b[39m),\n\u001b[1;32m    785\u001b[0m         logger,\n\u001b[1;32m    786\u001b[0m     )\n",
      "File \u001b[0;32m/opt/anaconda3/lib/python3.11/site-packages/darts/logging.py:104\u001b[0m, in \u001b[0;36mraise_if\u001b[0;34m(condition, message, logger)\u001b[0m\n\u001b[1;32m     81\u001b[0m \u001b[38;5;28;01mdef\u001b[39;00m \u001b[38;5;21mraise_if\u001b[39m(\n\u001b[1;32m     82\u001b[0m     condition: \u001b[38;5;28mbool\u001b[39m,\n\u001b[1;32m     83\u001b[0m     message: \u001b[38;5;28mstr\u001b[39m \u001b[38;5;241m=\u001b[39m \u001b[38;5;124m\"\u001b[39m\u001b[38;5;124m\"\u001b[39m,\n\u001b[1;32m     84\u001b[0m     logger: logging\u001b[38;5;241m.\u001b[39mLogger \u001b[38;5;241m=\u001b[39m get_logger(\u001b[38;5;124m\"\u001b[39m\u001b[38;5;124mmain_logger\u001b[39m\u001b[38;5;124m\"\u001b[39m),\n\u001b[1;32m     85\u001b[0m ):\n\u001b[1;32m     86\u001b[0m \u001b[38;5;250m    \u001b[39m\u001b[38;5;124;03m\"\"\"\u001b[39;00m\n\u001b[1;32m     87\u001b[0m \u001b[38;5;124;03m    Checks provided boolean condition and raises a ValueError if it evaluates to True.\u001b[39;00m\n\u001b[1;32m     88\u001b[0m \u001b[38;5;124;03m    It logs the error to the provided logger before raising it.\u001b[39;00m\n\u001b[0;32m   (...)\u001b[0m\n\u001b[1;32m    102\u001b[0m \u001b[38;5;124;03m        if `condition` is satisfied\u001b[39;00m\n\u001b[1;32m    103\u001b[0m \u001b[38;5;124;03m    \"\"\"\u001b[39;00m\n\u001b[0;32m--> 104\u001b[0m     raise_if_not(\u001b[38;5;129;01mnot\u001b[39;00m condition, message, logger)\n",
      "File \u001b[0;32m/opt/anaconda3/lib/python3.11/site-packages/darts/logging.py:78\u001b[0m, in \u001b[0;36mraise_if_not\u001b[0;34m(condition, message, logger)\u001b[0m\n\u001b[1;32m     76\u001b[0m \u001b[38;5;28;01mif\u001b[39;00m \u001b[38;5;129;01mnot\u001b[39;00m condition:\n\u001b[1;32m     77\u001b[0m     logger\u001b[38;5;241m.\u001b[39merror(\u001b[38;5;124m\"\u001b[39m\u001b[38;5;124mValueError: \u001b[39m\u001b[38;5;124m\"\u001b[39m \u001b[38;5;241m+\u001b[39m message)\n\u001b[0;32m---> 78\u001b[0m     \u001b[38;5;28;01mraise\u001b[39;00m \u001b[38;5;167;01mValueError\u001b[39;00m(message)\n",
      "\u001b[0;31mValueError\u001b[0m: LocalForecastingModel does not support historical forecasting with `retrain` set to `False`. For now, this is only supported with GlobalForecastingModels such as TorchForecastingModels. For more information, read the documentation for `retrain` in `historical_forecasts()`"
     ]
    }
   ],
   "source": [
    "for horizon in HORIZONS:\n",
    "  if os.path.exists(f'results/{Electricity_Dataset.name}_{naive_model.__class__.__name__}_{horizon}.json'):\n",
    "    print(f'{Electricity_Dataset.name}_{naive_model.__class__.__name__}_{horizon}.json', 'found - skipping...')\n",
    "    continue\n",
    "\n",
    "  xgb_experiment = TimeseriesExperiment(naive_model, Electricity_Dataset, None, use_pretrained_model=True, forecast_horizon=horizon)\n",
    "  \n",
    "  xgb_experiment.run()"
   ]
  },
  {
   "cell_type": "markdown",
   "metadata": {},
   "source": [
    "## XGB Experiment"
   ]
  },
  {
   "cell_type": "code",
   "execution_count": 23,
   "metadata": {},
   "outputs": [],
   "source": [
    "from darts.models.forecasting.xgboost import XGBModel\n",
    "\n",
    "xgb_model = XGBModel(\n",
    "  lags=24 * 7,\n",
    "  output_chunk_length=100\n",
    ")\n"
   ]
  },
  {
   "cell_type": "code",
   "execution_count": 24,
   "metadata": {},
   "outputs": [],
   "source": [
    "for horizon in HORIZONS:\n",
    "  if os.path.exists(f'results/{Electricity_Dataset.name}_{xgb_model.__class__.__name__}_{horizon}.json'):\n",
    "    print(f'{Electricity_Dataset.name}_{xgb_model.__class__.__name__}_{horizon}.json', 'found - skipping...')\n",
    "    continue\n",
    "\n",
    "  xgb_experiment = TimeseriesExperiment(xgb_model, Electricity_Dataset, None, use_pretrained_model=True, forecast_horizon=horizon)\n",
    "  \n",
    "  xgb_experiment.run()"
   ]
  },
  {
   "cell_type": "markdown",
   "metadata": {},
   "source": []
  },
  {
   "cell_type": "code",
   "execution_count": null,
   "metadata": {},
   "outputs": [],
   "source": []
  }
 ],
 "metadata": {
  "kernelspec": {
   "display_name": "Python 3",
   "language": "python",
   "name": "python3"
  },
  "language_info": {
   "codemirror_mode": {
    "name": "ipython",
    "version": 3
   },
   "file_extension": ".py",
   "mimetype": "text/x-python",
   "name": "python",
   "nbconvert_exporter": "python",
   "pygments_lexer": "ipython3",
   "version": "3.11.7"
  }
 },
 "nbformat": 4,
 "nbformat_minor": 2
}
