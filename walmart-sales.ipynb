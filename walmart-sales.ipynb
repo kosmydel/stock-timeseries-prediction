{
 "cells": [
  {
   "cell_type": "markdown",
   "metadata": {},
   "source": [
    "# Walmart Sales\n",
    "\n",
    "We use the data from the Walmart Sales Forecasting competition. We want to predict sales for one week ahead."
   ]
  },
  {
   "cell_type": "code",
   "execution_count": 1,
   "metadata": {},
   "outputs": [],
   "source": [
    "import pandas as pd\n",
    "\n",
    "from darts import TimeSeries\n",
    "from utils import TimeseriesExperiment, Dataset\n",
    "\n",
    "\n",
    "DATASET_NAME = \"walmart-sales\""
   ]
  },
  {
   "cell_type": "markdown",
   "metadata": {},
   "source": [
    "## Load the data"
   ]
  },
  {
   "cell_type": "code",
   "execution_count": 2,
   "metadata": {},
   "outputs": [
    {
     "data": {
      "text/html": [
       "<div>\n",
       "<style scoped>\n",
       "    .dataframe tbody tr th:only-of-type {\n",
       "        vertical-align: middle;\n",
       "    }\n",
       "\n",
       "    .dataframe tbody tr th {\n",
       "        vertical-align: top;\n",
       "    }\n",
       "\n",
       "    .dataframe thead th {\n",
       "        text-align: right;\n",
       "    }\n",
       "</style>\n",
       "<table border=\"1\" class=\"dataframe\">\n",
       "  <thead>\n",
       "    <tr style=\"text-align: right;\">\n",
       "      <th></th>\n",
       "      <th>Weekly_Sales</th>\n",
       "      <th>Temperature</th>\n",
       "      <th>Fuel_Price</th>\n",
       "      <th>CPI</th>\n",
       "      <th>Unemployment</th>\n",
       "      <th>IsHoliday</th>\n",
       "    </tr>\n",
       "    <tr>\n",
       "      <th>Date</th>\n",
       "      <th></th>\n",
       "      <th></th>\n",
       "      <th></th>\n",
       "      <th></th>\n",
       "      <th></th>\n",
       "      <th></th>\n",
       "    </tr>\n",
       "  </thead>\n",
       "  <tbody>\n",
       "    <tr>\n",
       "      <th>2010-02-07</th>\n",
       "      <td>24924.50</td>\n",
       "      <td>42.31</td>\n",
       "      <td>2.572</td>\n",
       "      <td>211.096358</td>\n",
       "      <td>8.106</td>\n",
       "      <td>0.0</td>\n",
       "    </tr>\n",
       "    <tr>\n",
       "      <th>2010-02-14</th>\n",
       "      <td>46039.49</td>\n",
       "      <td>38.51</td>\n",
       "      <td>2.548</td>\n",
       "      <td>211.242170</td>\n",
       "      <td>8.106</td>\n",
       "      <td>1.0</td>\n",
       "    </tr>\n",
       "    <tr>\n",
       "      <th>2010-02-21</th>\n",
       "      <td>41595.55</td>\n",
       "      <td>39.93</td>\n",
       "      <td>2.514</td>\n",
       "      <td>211.289143</td>\n",
       "      <td>8.106</td>\n",
       "      <td>0.0</td>\n",
       "    </tr>\n",
       "    <tr>\n",
       "      <th>2010-02-28</th>\n",
       "      <td>19403.54</td>\n",
       "      <td>46.63</td>\n",
       "      <td>2.561</td>\n",
       "      <td>211.319643</td>\n",
       "      <td>8.106</td>\n",
       "      <td>0.0</td>\n",
       "    </tr>\n",
       "    <tr>\n",
       "      <th>2010-03-07</th>\n",
       "      <td>21827.90</td>\n",
       "      <td>46.50</td>\n",
       "      <td>2.625</td>\n",
       "      <td>211.350143</td>\n",
       "      <td>8.106</td>\n",
       "      <td>0.0</td>\n",
       "    </tr>\n",
       "  </tbody>\n",
       "</table>\n",
       "</div>"
      ],
      "text/plain": [
       "            Weekly_Sales  Temperature  Fuel_Price         CPI  Unemployment  \\\n",
       "Date                                                                          \n",
       "2010-02-07      24924.50        42.31       2.572  211.096358         8.106   \n",
       "2010-02-14      46039.49        38.51       2.548  211.242170         8.106   \n",
       "2010-02-21      41595.55        39.93       2.514  211.289143         8.106   \n",
       "2010-02-28      19403.54        46.63       2.561  211.319643         8.106   \n",
       "2010-03-07      21827.90        46.50       2.625  211.350143         8.106   \n",
       "\n",
       "            IsHoliday  \n",
       "Date                   \n",
       "2010-02-07        0.0  \n",
       "2010-02-14        1.0  \n",
       "2010-02-21        0.0  \n",
       "2010-02-28        0.0  \n",
       "2010-03-07        0.0  "
      ]
     },
     "execution_count": 2,
     "metadata": {},
     "output_type": "execute_result"
    }
   ],
   "source": [
    "STORE_ID = 1\n",
    "\n",
    "# Load data\n",
    "df_train = pd.read_csv(\"data/walmart-sales/train.csv\")\n",
    "df_features = pd.read_csv(\"data/walmart-sales/features.csv\")\n",
    "\n",
    "# Get data from one store\n",
    "df = df_train[df_train[\"Store\"] == STORE_ID]\n",
    "df = df[df[\"Dept\"] == STORE_ID]\n",
    "\n",
    "# Drop redundant columns\n",
    "df = df.drop([\"Store\", \"Dept\", \"IsHoliday\"], axis=1)\n",
    "df[\"Date\"] = pd.to_datetime(df[\"Date\"])\n",
    "df = df.set_index(\"Date\").resample(\"W\").mean()\n",
    "\n",
    "\n",
    "df_features = df_features.drop(\n",
    "    [\"MarkDown1\", \"MarkDown2\", \"MarkDown3\", \"MarkDown4\", \"MarkDown5\"], axis=1\n",
    ")\n",
    "df_features = df_features[df_features[\"Store\"] == STORE_ID]\n",
    "df_features[\"Date\"] = pd.to_datetime(df_features[\"Date\"])\n",
    "df_features = df_features.set_index(\"Date\").resample(\"W\").mean()\n",
    "\n",
    "df = df.join(df_features, how=\"left\")\n",
    "df = df.drop(\"Store\", axis=1)\n",
    "\n",
    "df.head()"
   ]
  },
  {
   "cell_type": "code",
   "execution_count": 3,
   "metadata": {},
   "outputs": [
    {
     "data": {
      "image/png": "[encoded data removed]",
      "text/plain": [
       "<Figure size 2500x500 with 1 Axes>"
      ]
     },
     "metadata": {},
     "output_type": "display_data"
    },
    {
     "name": "stdout",
     "output_type": "stream",
     "text": [
      "2012-04-08 00:00:00\n",
      "2012-04-15 00:00:00\n"
     ]
    }
   ],
   "source": [
    "df_target = df[\"Weekly_Sales\"]\n",
    "df_features = df.drop(\"Weekly_Sales\", axis=1)\n",
    "\n",
    "df_future = df_features.pop(\"IsHoliday\")\n",
    "df_past = df_features\n",
    "\n",
    "target = TimeSeries.from_series(df_target, freq=\"W\", fill_missing_dates=True)\n",
    "past_covariates = TimeSeries.from_dataframe(df_past, freq=\"W\", fill_missing_dates=True)\n",
    "future_covariates = TimeSeries.from_series(df_future, freq=\"W\", fill_missing_dates=True)\n",
    "\n",
    "dataset = Dataset(\n",
    "    target,\n",
    "    \"walmart-sales\",\n",
    "    past_covariates=past_covariates,\n",
    "    future_covariates=future_covariates,\n",
    ")\n",
    "dataset.plot_train_test()\n",
    "\n",
    "print(dataset.train.time_index[-1])\n",
    "print(dataset.test.time_index[0])"
   ]
  },
  {
   "cell_type": "markdown",
   "metadata": {},
   "source": [
    "## Models\n",
    "\n",
    "### Baseline"
   ]
  },
  {
   "cell_type": "code",
   "execution_count": 4,
   "metadata": {},
   "outputs": [
    {
     "name": "stdout",
     "output_type": "stream",
     "text": [
      "No parameters to search\n"
     ]
    },
    {
     "data": {
      "image/png": "[encoded data removed]",
      "text/plain": [
       "<Figure size 2500x500 with 1 Axes>"
      ]
     },
     "metadata": {},
     "output_type": "display_data"
    },
    {
     "data": {
      "text/plain": [
       "{'mape': 1146331.9272255711,\n",
       " 'mse': 5.590030263104471e+16,\n",
       " 'rmse': 236432448.34633997,\n",
       " 'mae': 217847003.0366966,\n",
       " 'model': 'NaiveSeasonal',\n",
       " 'forecast_horizon': 1,\n",
       " 'dataset': 'walmart-sales',\n",
       " 'experiment_time': 1716400779.714098,\n",
       " 'parameters': OrderedDict([('K', 1)])}"
      ]
     },
     "execution_count": 4,
     "metadata": {},
     "output_type": "execute_result"
    }
   ],
   "source": [
    "from darts.models import NaiveSeasonal\n",
    "\n",
    "model = NaiveSeasonal(K=1)\n",
    "\n",
    "experiment1 = TimeseriesExperiment(model, dataset, retrain=True)\n",
    "\n",
    "experiment1.run()"
   ]
  },
  {
   "cell_type": "code",
   "execution_count": null,
   "metadata": {},
   "outputs": [],
   "source": [
    "# arima\n",
    "from darts.models import ARIMA\n",
    "\n",
    "model = ARIMA()\n",
    "\n",
    "experiment2 = TimeseriesExperiment(\n",
    "    model, dataset, {\"p\": [1, 3, 5], \"d\": [1], \"q\": [0]}, retrain=True\n",
    ")\n",
    "\n",
    "# experiment2.run()"
   ]
  },
  {
   "cell_type": "code",
   "execution_count": null,
   "metadata": {},
   "outputs": [],
   "source": [
    "from darts.models import XGBModel\n",
    "\n",
    "model = XGBModel(lags=1)\n",
    "\n",
    "experiment3 = TimeseriesExperiment(\n",
    "    model,\n",
    "    dataset,\n",
    "    {\n",
    "        \"lags\": [3, 7, 14],\n",
    "        \"lags_past_covariates\": [1, 2],\n",
    "        \"max_depth\": [3, 5, 7],\n",
    "        \"n_estimators\": [10, 25, 50, 100],\n",
    "        \"output_chunk_length\": [1, 3],\n",
    "    },\n",
    "    use_pretrained_model=False,\n",
    ")\n",
    "\n",
    "experiment3.run()"
   ]
  },
  {
   "cell_type": "code",
   "execution_count": null,
   "metadata": {},
   "outputs": [],
   "source": [
    "from darts.models import Prophet\n",
    "\n",
    "model_prophet = Prophet()\n",
    "\n",
    "experiment_prophet = TimeseriesExperiment(\n",
    "    model_prophet, dataset, {}, use_pretrained_model=False\n",
    ")\n",
    "\n",
    "experiment_prophet.run()"
   ]
  },
  {
   "cell_type": "code",
   "execution_count": 8,
   "metadata": {},
   "outputs": [
    {
     "name": "stdout",
     "output_type": "stream",
     "text": [
      "Searching for best parameters {'input_chunk_length': [4, 8, 16], 'output_chunk_length': [1], 'hidden_size': [8, 16, 32], 'lstm_layers': [1, 2, 3], 'num_attention_heads': [2, 4, 8], 'dropout': [0.1, 0.2], 'pl_trainer_kwargs': [{'accelerator': 'cpu'}]}\n"
     ]
    },
    {
     "data": {
      "application/vnd.jupyter.widget-view+json": {
       "model_id": "6343bb042b0e4af581753f20dd3e40b6",
       "version_major": 2,
       "version_minor": 0
      },
      "text/plain": [
       "  0%|          | 0/162 [00:00<?, ?it/s]"
      ]
     },
     "metadata": {},
     "output_type": "display_data"
    },
    {
     "name": "stderr",
     "output_type": "stream",
     "text": [
      "`enable_optimization=True` is ignored because `retrain` is not `False` or `0`.To hide this warning, set `show_warnings=False` or `enable_optimization=False`.\n"
     ]
    },
    {
     "data": {
      "application/vnd.jupyter.widget-view+json": {
       "model_id": "5354652fb2ba40c1a70c85c633953b89",
       "version_major": 2,
       "version_minor": 0
      },
      "text/plain": [
       "  0%|          | 0/109 [00:00<?, ?it/s]"
      ]
     },
     "metadata": {},
     "output_type": "display_data"
    },
    {
     "name": "stderr",
     "output_type": "stream",
     "text": [
      "GPU available: True (mps), used: False\n",
      "TPU available: False, using: 0 TPU cores\n",
      "IPU available: False, using: 0 IPUs\n",
      "HPU available: False, using: 0 HPUs\n",
      "/Users/jakubkosmydel/miniconda3/envs/rekomendacyjne/lib/python3.11/site-packages/pytorch_lightning/trainer/setup.py:187: GPU available but not used. You can set it by doing `Trainer(accelerator='gpu')`.\n",
      "\n",
      "   | Name                              | Type                             | Params\n",
      "----------------------------------------------------------------------------------------\n",
      "0  | train_metrics                     | MetricCollection                 | 0     \n",
      "1  | val_metrics                       | MetricCollection                 | 0     \n",
      "2  | input_embeddings                  | _MultiEmbedding                  | 0     \n",
      "3  | static_covariates_vsn             | _VariableSelectionNetwork        | 0     \n",
      "4  | encoder_vsn                       | _VariableSelectionNetwork        | 2.4 K \n",
      "5  | decoder_vsn                       | _VariableSelectionNetwork        | 320   \n",
      "6  | static_context_grn                | _GatedResidualNetwork            | 304   \n",
      "7  | static_context_hidden_encoder_grn | _GatedResidualNetwork            | 304   \n",
      "8  | static_context_cell_encoder_grn   | _GatedResidualNetwork            | 304   \n",
      "9  | static_context_enrichment         | _GatedResidualNetwork            | 304   \n",
      "10 | lstm_encoder                      | LSTM                             | 576   \n",
      "11 | lstm_decoder                      | LSTM                             | 576   \n",
      "12 | post_lstm_gan                     | _GateAddNorm                     | 160   \n",
      "13 | static_enrichment_grn             | _GatedResidualNetwork            | 368   \n",
      "14 | multihead_attn                    | _InterpretableMultiHeadAttention | 212   \n",
      "15 | post_attn_gan                     | _GateAddNorm                     | 160   \n",
      "16 | feed_forward_block                | _GatedResidualNetwork            | 304   \n",
      "17 | pre_output_gan                    | _GateAddNorm                     | 160   \n",
      "18 | output_layer                      | Linear                           | 153   \n",
      "----------------------------------------------------------------------------------------\n",
      "6.6 K     Trainable params\n",
      "0         Non-trainable params\n",
      "6.6 K     Total params\n",
      "0.026     Total estimated model params size (MB)\n"
     ]
    },
    {
     "data": {
      "application/vnd.jupyter.widget-view+json": {
       "model_id": "5b977dc58b1643318df5e4b86be68039",
       "version_major": 2,
       "version_minor": 0
      },
      "text/plain": [
       "Training: |          | 0/? [00:00<?, ?it/s]"
      ]
     },
     "metadata": {},
     "output_type": "display_data"
    },
    {
     "name": "stderr",
     "output_type": "stream",
     "text": [
      "`Trainer.fit` stopped: `max_epochs=100` reached.\n",
      "GPU available: True (mps), used: False\n",
      "TPU available: False, using: 0 TPU cores\n",
      "IPU available: False, using: 0 IPUs\n",
      "HPU available: False, using: 0 HPUs\n"
     ]
    },
    {
     "data": {
      "application/vnd.jupyter.widget-view+json": {
       "model_id": "f0c03eea8a8b439380cf77d357edf5c4",
       "version_major": 2,
       "version_minor": 0
      },
      "text/plain": [
       "Predicting: |          | 0/? [00:00<?, ?it/s]"
      ]
     },
     "metadata": {},
     "output_type": "display_data"
    },
    {
     "name": "stderr",
     "output_type": "stream",
     "text": [
      "GPU available: True (mps), used: False\n",
      "TPU available: False, using: 0 TPU cores\n",
      "IPU available: False, using: 0 IPUs\n",
      "HPU available: False, using: 0 HPUs\n",
      "/Users/jakubkosmydel/miniconda3/envs/rekomendacyjne/lib/python3.11/site-packages/pytorch_lightning/trainer/setup.py:187: GPU available but not used. You can set it by doing `Trainer(accelerator='gpu')`.\n",
      "\n",
      "   | Name                              | Type                             | Params\n",
      "----------------------------------------------------------------------------------------\n",
      "0  | train_metrics                     | MetricCollection                 | 0     \n",
      "1  | val_metrics                       | MetricCollection                 | 0     \n",
      "2  | input_embeddings                  | _MultiEmbedding                  | 0     \n",
      "3  | static_covariates_vsn             | _VariableSelectionNetwork        | 0     \n",
      "4  | encoder_vsn                       | _VariableSelectionNetwork        | 2.4 K \n",
      "5  | decoder_vsn                       | _VariableSelectionNetwork        | 320   \n",
      "6  | static_context_grn                | _GatedResidualNetwork            | 304   \n",
      "7  | static_context_hidden_encoder_grn | _GatedResidualNetwork            | 304   \n",
      "8  | static_context_cell_encoder_grn   | _GatedResidualNetwork            | 304   \n",
      "9  | static_context_enrichment         | _GatedResidualNetwork            | 304   \n",
      "10 | lstm_encoder                      | LSTM                             | 576   \n",
      "11 | lstm_decoder                      | LSTM                             | 576   \n",
      "12 | post_lstm_gan                     | _GateAddNorm                     | 160   \n",
      "13 | static_enrichment_grn             | _GatedResidualNetwork            | 368   \n",
      "14 | multihead_attn                    | _InterpretableMultiHeadAttention | 212   \n",
      "15 | post_attn_gan                     | _GateAddNorm                     | 160   \n",
      "16 | feed_forward_block                | _GatedResidualNetwork            | 304   \n",
      "17 | pre_output_gan                    | _GateAddNorm                     | 160   \n",
      "18 | output_layer                      | Linear                           | 153   \n",
      "----------------------------------------------------------------------------------------\n",
      "6.6 K     Trainable params\n",
      "0         Non-trainable params\n",
      "6.6 K     Total params\n",
      "0.026     Total estimated model params size (MB)\n"
     ]
    },
    {
     "data": {
      "application/vnd.jupyter.widget-view+json": {
       "model_id": "1c107b9ff24949f6a552cf004173cb70",
       "version_major": 2,
       "version_minor": 0
      },
      "text/plain": [
       "Training: |          | 0/? [00:00<?, ?it/s]"
      ]
     },
     "metadata": {},
     "output_type": "display_data"
    },
    {
     "name": "stderr",
     "output_type": "stream",
     "text": [
      "`Trainer.fit` stopped: `max_epochs=100` reached.\n",
      "GPU available: True (mps), used: False\n",
      "TPU available: False, using: 0 TPU cores\n",
      "IPU available: False, using: 0 IPUs\n",
      "HPU available: False, using: 0 HPUs\n"
     ]
    },
    {
     "data": {
      "application/vnd.jupyter.widget-view+json": {
       "model_id": "61ad9f901c114458b0e9e18889e3f963",
       "version_major": 2,
       "version_minor": 0
      },
      "text/plain": [
       "Predicting: |          | 0/? [00:00<?, ?it/s]"
      ]
     },
     "metadata": {},
     "output_type": "display_data"
    },
    {
     "name": "stderr",
     "output_type": "stream",
     "text": [
      "GPU available: True (mps), used: False\n",
      "TPU available: False, using: 0 TPU cores\n",
      "IPU available: False, using: 0 IPUs\n",
      "HPU available: False, using: 0 HPUs\n",
      "/Users/jakubkosmydel/miniconda3/envs/rekomendacyjne/lib/python3.11/site-packages/pytorch_lightning/trainer/setup.py:187: GPU available but not used. You can set it by doing `Trainer(accelerator='gpu')`.\n",
      "\n",
      "   | Name                              | Type                             | Params\n",
      "----------------------------------------------------------------------------------------\n",
      "0  | train_metrics                     | MetricCollection                 | 0     \n",
      "1  | val_metrics                       | MetricCollection                 | 0     \n",
      "2  | input_embeddings                  | _MultiEmbedding                  | 0     \n",
      "3  | static_covariates_vsn             | _VariableSelectionNetwork        | 0     \n",
      "4  | encoder_vsn                       | _VariableSelectionNetwork        | 2.4 K \n",
      "5  | decoder_vsn                       | _VariableSelectionNetwork        | 320   \n",
      "6  | static_context_grn                | _GatedResidualNetwork            | 304   \n",
      "7  | static_context_hidden_encoder_grn | _GatedResidualNetwork            | 304   \n",
      "8  | static_context_cell_encoder_grn   | _GatedResidualNetwork            | 304   \n",
      "9  | static_context_enrichment         | _GatedResidualNetwork            | 304   \n",
      "10 | lstm_encoder                      | LSTM                             | 576   \n",
      "11 | lstm_decoder                      | LSTM                             | 576   \n",
      "12 | post_lstm_gan                     | _GateAddNorm                     | 160   \n",
      "13 | static_enrichment_grn             | _GatedResidualNetwork            | 368   \n",
      "14 | multihead_attn                    | _InterpretableMultiHeadAttention | 212   \n",
      "15 | post_attn_gan                     | _GateAddNorm                     | 160   \n",
      "16 | feed_forward_block                | _GatedResidualNetwork            | 304   \n",
      "17 | pre_output_gan                    | _GateAddNorm                     | 160   \n",
      "18 | output_layer                      | Linear                           | 153   \n",
      "----------------------------------------------------------------------------------------\n",
      "6.6 K     Trainable params\n",
      "0         Non-trainable params\n",
      "6.6 K     Total params\n",
      "0.026     Total estimated model params size (MB)\n"
     ]
    },
    {
     "data": {
      "application/vnd.jupyter.widget-view+json": {
       "model_id": "8a687bdd813142728160691b70c472ab",
       "version_major": 2,
       "version_minor": 0
      },
      "text/plain": [
       "Training: |          | 0/? [00:00<?, ?it/s]"
      ]
     },
     "metadata": {},
     "output_type": "display_data"
    },
    {
     "name": "stderr",
     "output_type": "stream",
     "text": [
      "`Trainer.fit` stopped: `max_epochs=100` reached.\n",
      "GPU available: True (mps), used: False\n",
      "TPU available: False, using: 0 TPU cores\n",
      "IPU available: False, using: 0 IPUs\n",
      "HPU available: False, using: 0 HPUs\n"
     ]
    },
    {
     "data": {
      "application/vnd.jupyter.widget-view+json": {
       "model_id": "0bf202a2f79c441491c99c516156243c",
       "version_major": 2,
       "version_minor": 0
      },
      "text/plain": [
       "Predicting: |          | 0/? [00:00<?, ?it/s]"
      ]
     },
     "metadata": {},
     "output_type": "display_data"
    },
    {
     "name": "stderr",
     "output_type": "stream",
     "text": [
      "GPU available: True (mps), used: False\n",
      "TPU available: False, using: 0 TPU cores\n",
      "IPU available: False, using: 0 IPUs\n",
      "HPU available: False, using: 0 HPUs\n",
      "/Users/jakubkosmydel/miniconda3/envs/rekomendacyjne/lib/python3.11/site-packages/pytorch_lightning/trainer/setup.py:187: GPU available but not used. You can set it by doing `Trainer(accelerator='gpu')`.\n",
      "\n",
      "   | Name                              | Type                             | Params\n",
      "----------------------------------------------------------------------------------------\n",
      "0  | train_metrics                     | MetricCollection                 | 0     \n",
      "1  | val_metrics                       | MetricCollection                 | 0     \n",
      "2  | input_embeddings                  | _MultiEmbedding                  | 0     \n",
      "3  | static_covariates_vsn             | _VariableSelectionNetwork        | 0     \n",
      "4  | encoder_vsn                       | _VariableSelectionNetwork        | 2.4 K \n",
      "5  | decoder_vsn                       | _VariableSelectionNetwork        | 320   \n",
      "6  | static_context_grn                | _GatedResidualNetwork            | 304   \n",
      "7  | static_context_hidden_encoder_grn | _GatedResidualNetwork            | 304   \n",
      "8  | static_context_cell_encoder_grn   | _GatedResidualNetwork            | 304   \n",
      "9  | static_context_enrichment         | _GatedResidualNetwork            | 304   \n",
      "10 | lstm_encoder                      | LSTM                             | 576   \n",
      "11 | lstm_decoder                      | LSTM                             | 576   \n",
      "12 | post_lstm_gan                     | _GateAddNorm                     | 160   \n",
      "13 | static_enrichment_grn             | _GatedResidualNetwork            | 368   \n",
      "14 | multihead_attn                    | _InterpretableMultiHeadAttention | 212   \n",
      "15 | post_attn_gan                     | _GateAddNorm                     | 160   \n",
      "16 | feed_forward_block                | _GatedResidualNetwork            | 304   \n",
      "17 | pre_output_gan                    | _GateAddNorm                     | 160   \n",
      "18 | output_layer                      | Linear                           | 153   \n",
      "----------------------------------------------------------------------------------------\n",
      "6.6 K     Trainable params\n",
      "0         Non-trainable params\n",
      "6.6 K     Total params\n",
      "0.026     Total estimated model params size (MB)\n"
     ]
    },
    {
     "data": {
      "application/vnd.jupyter.widget-view+json": {
       "model_id": "94aa996798f04bc1ab040fa3c1907f0e",
       "version_major": 2,
       "version_minor": 0
      },
      "text/plain": [
       "Training: |          | 0/? [00:00<?, ?it/s]"
      ]
     },
     "metadata": {},
     "output_type": "display_data"
    },
    {
     "name": "stderr",
     "output_type": "stream",
     "text": [
      "`Trainer.fit` stopped: `max_epochs=100` reached.\n",
      "GPU available: True (mps), used: False\n",
      "TPU available: False, using: 0 TPU cores\n",
      "IPU available: False, using: 0 IPUs\n",
      "HPU available: False, using: 0 HPUs\n"
     ]
    },
    {
     "data": {
      "application/vnd.jupyter.widget-view+json": {
       "model_id": "b353e4cbd7c54f00887516774bc6c278",
       "version_major": 2,
       "version_minor": 0
      },
      "text/plain": [
       "Predicting: |          | 0/? [00:00<?, ?it/s]"
      ]
     },
     "metadata": {},
     "output_type": "display_data"
    },
    {
     "name": "stderr",
     "output_type": "stream",
     "text": [
      "GPU available: True (mps), used: False\n",
      "TPU available: False, using: 0 TPU cores\n",
      "IPU available: False, using: 0 IPUs\n",
      "HPU available: False, using: 0 HPUs\n",
      "/Users/jakubkosmydel/miniconda3/envs/rekomendacyjne/lib/python3.11/site-packages/pytorch_lightning/trainer/setup.py:187: GPU available but not used. You can set it by doing `Trainer(accelerator='gpu')`.\n",
      "\n",
      "   | Name                              | Type                             | Params\n",
      "----------------------------------------------------------------------------------------\n",
      "0  | train_metrics                     | MetricCollection                 | 0     \n",
      "1  | val_metrics                       | MetricCollection                 | 0     \n",
      "2  | input_embeddings                  | _MultiEmbedding                  | 0     \n",
      "3  | static_covariates_vsn             | _VariableSelectionNetwork        | 0     \n",
      "4  | encoder_vsn                       | _VariableSelectionNetwork        | 2.4 K \n",
      "5  | decoder_vsn                       | _VariableSelectionNetwork        | 320   \n",
      "6  | static_context_grn                | _GatedResidualNetwork            | 304   \n",
      "7  | static_context_hidden_encoder_grn | _GatedResidualNetwork            | 304   \n",
      "8  | static_context_cell_encoder_grn   | _GatedResidualNetwork            | 304   \n",
      "9  | static_context_enrichment         | _GatedResidualNetwork            | 304   \n",
      "10 | lstm_encoder                      | LSTM                             | 576   \n",
      "11 | lstm_decoder                      | LSTM                             | 576   \n",
      "12 | post_lstm_gan                     | _GateAddNorm                     | 160   \n",
      "13 | static_enrichment_grn             | _GatedResidualNetwork            | 368   \n",
      "14 | multihead_attn                    | _InterpretableMultiHeadAttention | 212   \n",
      "15 | post_attn_gan                     | _GateAddNorm                     | 160   \n",
      "16 | feed_forward_block                | _GatedResidualNetwork            | 304   \n",
      "17 | pre_output_gan                    | _GateAddNorm                     | 160   \n",
      "18 | output_layer                      | Linear                           | 153   \n",
      "----------------------------------------------------------------------------------------\n",
      "6.6 K     Trainable params\n",
      "0         Non-trainable params\n",
      "6.6 K     Total params\n",
      "0.026     Total estimated model params size (MB)\n"
     ]
    },
    {
     "data": {
      "application/vnd.jupyter.widget-view+json": {
       "model_id": "80b685c1124440b99485e7439f1c607d",
       "version_major": 2,
       "version_minor": 0
      },
      "text/plain": [
       "Training: |          | 0/? [00:00<?, ?it/s]"
      ]
     },
     "metadata": {},
     "output_type": "display_data"
    },
    {
     "name": "stderr",
     "output_type": "stream",
     "text": [
      "`Trainer.fit` stopped: `max_epochs=100` reached.\n",
      "GPU available: True (mps), used: False\n",
      "TPU available: False, using: 0 TPU cores\n",
      "IPU available: False, using: 0 IPUs\n",
      "HPU available: False, using: 0 HPUs\n"
     ]
    },
    {
     "data": {
      "application/vnd.jupyter.widget-view+json": {
       "model_id": "8077ef2bf9fd4206a05281336a8ddd08",
       "version_major": 2,
       "version_minor": 0
      },
      "text/plain": [
       "Predicting: |          | 0/? [00:00<?, ?it/s]"
      ]
     },
     "metadata": {},
     "output_type": "display_data"
    },
    {
     "name": "stderr",
     "output_type": "stream",
     "text": [
      "GPU available: True (mps), used: False\n",
      "TPU available: False, using: 0 TPU cores\n",
      "IPU available: False, using: 0 IPUs\n",
      "HPU available: False, using: 0 HPUs\n",
      "/Users/jakubkosmydel/miniconda3/envs/rekomendacyjne/lib/python3.11/site-packages/pytorch_lightning/trainer/setup.py:187: GPU available but not used. You can set it by doing `Trainer(accelerator='gpu')`.\n",
      "\n",
      "   | Name                              | Type                             | Params\n",
      "----------------------------------------------------------------------------------------\n",
      "0  | train_metrics                     | MetricCollection                 | 0     \n",
      "1  | val_metrics                       | MetricCollection                 | 0     \n",
      "2  | input_embeddings                  | _MultiEmbedding                  | 0     \n",
      "3  | static_covariates_vsn             | _VariableSelectionNetwork        | 0     \n",
      "4  | encoder_vsn                       | _VariableSelectionNetwork        | 2.4 K \n",
      "5  | decoder_vsn                       | _VariableSelectionNetwork        | 320   \n",
      "6  | static_context_grn                | _GatedResidualNetwork            | 304   \n",
      "7  | static_context_hidden_encoder_grn | _GatedResidualNetwork            | 304   \n",
      "8  | static_context_cell_encoder_grn   | _GatedResidualNetwork            | 304   \n",
      "9  | static_context_enrichment         | _GatedResidualNetwork            | 304   \n",
      "10 | lstm_encoder                      | LSTM                             | 576   \n",
      "11 | lstm_decoder                      | LSTM                             | 576   \n",
      "12 | post_lstm_gan                     | _GateAddNorm                     | 160   \n",
      "13 | static_enrichment_grn             | _GatedResidualNetwork            | 368   \n",
      "14 | multihead_attn                    | _InterpretableMultiHeadAttention | 212   \n",
      "15 | post_attn_gan                     | _GateAddNorm                     | 160   \n",
      "16 | feed_forward_block                | _GatedResidualNetwork            | 304   \n",
      "17 | pre_output_gan                    | _GateAddNorm                     | 160   \n",
      "18 | output_layer                      | Linear                           | 153   \n",
      "----------------------------------------------------------------------------------------\n",
      "6.6 K     Trainable params\n",
      "0         Non-trainable params\n",
      "6.6 K     Total params\n",
      "0.026     Total estimated model params size (MB)\n"
     ]
    },
    {
     "data": {
      "application/vnd.jupyter.widget-view+json": {
       "model_id": "2d6f2f41a580417fa30937491c35e18d",
       "version_major": 2,
       "version_minor": 0
      },
      "text/plain": [
       "Training: |          | 0/? [00:00<?, ?it/s]"
      ]
     },
     "metadata": {},
     "output_type": "display_data"
    },
    {
     "name": "stderr",
     "output_type": "stream",
     "text": [
      "`Trainer.fit` stopped: `max_epochs=100` reached.\n",
      "GPU available: True (mps), used: False\n",
      "TPU available: False, using: 0 TPU cores\n",
      "IPU available: False, using: 0 IPUs\n",
      "HPU available: False, using: 0 HPUs\n"
     ]
    },
    {
     "data": {
      "application/vnd.jupyter.widget-view+json": {
       "model_id": "91bde8cd75c346a4871b3c5f2db04ea7",
       "version_major": 2,
       "version_minor": 0
      },
      "text/plain": [
       "Predicting: |          | 0/? [00:00<?, ?it/s]"
      ]
     },
     "metadata": {},
     "output_type": "display_data"
    },
    {
     "name": "stderr",
     "output_type": "stream",
     "text": [
      "GPU available: True (mps), used: False\n",
      "TPU available: False, using: 0 TPU cores\n",
      "IPU available: False, using: 0 IPUs\n",
      "HPU available: False, using: 0 HPUs\n",
      "/Users/jakubkosmydel/miniconda3/envs/rekomendacyjne/lib/python3.11/site-packages/pytorch_lightning/trainer/setup.py:187: GPU available but not used. You can set it by doing `Trainer(accelerator='gpu')`.\n",
      "\n",
      "   | Name                              | Type                             | Params\n",
      "----------------------------------------------------------------------------------------\n",
      "0  | train_metrics                     | MetricCollection                 | 0     \n",
      "1  | val_metrics                       | MetricCollection                 | 0     \n",
      "2  | input_embeddings                  | _MultiEmbedding                  | 0     \n",
      "3  | static_covariates_vsn             | _VariableSelectionNetwork        | 0     \n",
      "4  | encoder_vsn                       | _VariableSelectionNetwork        | 2.4 K \n",
      "5  | decoder_vsn                       | _VariableSelectionNetwork        | 320   \n",
      "6  | static_context_grn                | _GatedResidualNetwork            | 304   \n",
      "7  | static_context_hidden_encoder_grn | _GatedResidualNetwork            | 304   \n",
      "8  | static_context_cell_encoder_grn   | _GatedResidualNetwork            | 304   \n",
      "9  | static_context_enrichment         | _GatedResidualNetwork            | 304   \n",
      "10 | lstm_encoder                      | LSTM                             | 576   \n",
      "11 | lstm_decoder                      | LSTM                             | 576   \n",
      "12 | post_lstm_gan                     | _GateAddNorm                     | 160   \n",
      "13 | static_enrichment_grn             | _GatedResidualNetwork            | 368   \n",
      "14 | multihead_attn                    | _InterpretableMultiHeadAttention | 212   \n",
      "15 | post_attn_gan                     | _GateAddNorm                     | 160   \n",
      "16 | feed_forward_block                | _GatedResidualNetwork            | 304   \n",
      "17 | pre_output_gan                    | _GateAddNorm                     | 160   \n",
      "18 | output_layer                      | Linear                           | 153   \n",
      "----------------------------------------------------------------------------------------\n",
      "6.6 K     Trainable params\n",
      "0         Non-trainable params\n",
      "6.6 K     Total params\n",
      "0.026     Total estimated model params size (MB)\n"
     ]
    },
    {
     "data": {
      "application/vnd.jupyter.widget-view+json": {
       "model_id": "1a76be7fb95a41d2a3a7879d53a23f9c",
       "version_major": 2,
       "version_minor": 0
      },
      "text/plain": [
       "Training: |          | 0/? [00:00<?, ?it/s]"
      ]
     },
     "metadata": {},
     "output_type": "display_data"
    },
    {
     "name": "stderr",
     "output_type": "stream",
     "text": [
      "`Trainer.fit` stopped: `max_epochs=100` reached.\n",
      "GPU available: True (mps), used: False\n",
      "TPU available: False, using: 0 TPU cores\n",
      "IPU available: False, using: 0 IPUs\n",
      "HPU available: False, using: 0 HPUs\n"
     ]
    },
    {
     "data": {
      "application/vnd.jupyter.widget-view+json": {
       "model_id": "ec6582eaaf4e429db4adcce74431d3ea",
       "version_major": 2,
       "version_minor": 0
      },
      "text/plain": [
       "Predicting: |          | 0/? [00:00<?, ?it/s]"
      ]
     },
     "metadata": {},
     "output_type": "display_data"
    },
    {
     "name": "stderr",
     "output_type": "stream",
     "text": [
      "GPU available: True (mps), used: False\n",
      "TPU available: False, using: 0 TPU cores\n",
      "IPU available: False, using: 0 IPUs\n",
      "HPU available: False, using: 0 HPUs\n",
      "/Users/jakubkosmydel/miniconda3/envs/rekomendacyjne/lib/python3.11/site-packages/pytorch_lightning/trainer/setup.py:187: GPU available but not used. You can set it by doing `Trainer(accelerator='gpu')`.\n",
      "\n",
      "   | Name                              | Type                             | Params\n",
      "----------------------------------------------------------------------------------------\n",
      "0  | train_metrics                     | MetricCollection                 | 0     \n",
      "1  | val_metrics                       | MetricCollection                 | 0     \n",
      "2  | input_embeddings                  | _MultiEmbedding                  | 0     \n",
      "3  | static_covariates_vsn             | _VariableSelectionNetwork        | 0     \n",
      "4  | encoder_vsn                       | _VariableSelectionNetwork        | 2.4 K \n",
      "5  | decoder_vsn                       | _VariableSelectionNetwork        | 320   \n",
      "6  | static_context_grn                | _GatedResidualNetwork            | 304   \n",
      "7  | static_context_hidden_encoder_grn | _GatedResidualNetwork            | 304   \n",
      "8  | static_context_cell_encoder_grn   | _GatedResidualNetwork            | 304   \n",
      "9  | static_context_enrichment         | _GatedResidualNetwork            | 304   \n",
      "10 | lstm_encoder                      | LSTM                             | 576   \n",
      "11 | lstm_decoder                      | LSTM                             | 576   \n",
      "12 | post_lstm_gan                     | _GateAddNorm                     | 160   \n",
      "13 | static_enrichment_grn             | _GatedResidualNetwork            | 368   \n",
      "14 | multihead_attn                    | _InterpretableMultiHeadAttention | 212   \n",
      "15 | post_attn_gan                     | _GateAddNorm                     | 160   \n",
      "16 | feed_forward_block                | _GatedResidualNetwork            | 304   \n",
      "17 | pre_output_gan                    | _GateAddNorm                     | 160   \n",
      "18 | output_layer                      | Linear                           | 153   \n",
      "----------------------------------------------------------------------------------------\n",
      "6.6 K     Trainable params\n",
      "0         Non-trainable params\n",
      "6.6 K     Total params\n",
      "0.026     Total estimated model params size (MB)\n"
     ]
    },
    {
     "data": {
      "application/vnd.jupyter.widget-view+json": {
       "model_id": "cb6fc7f2bf31417791c73e924ea9f38e",
       "version_major": 2,
       "version_minor": 0
      },
      "text/plain": [
       "Training: |          | 0/? [00:00<?, ?it/s]"
      ]
     },
     "metadata": {},
     "output_type": "display_data"
    }
   ],
   "source": [
    "from darts.models import TFTModel\n",
    "\n",
    "model_tft = TFTModel(input_chunk_length=16, output_chunk_length=1)\n",
    "\n",
    "params_fft = {\n",
    "    \"input_chunk_length\": [4, 8, 16],\n",
    "    \"output_chunk_length\": [1],\n",
    "    \"hidden_size\": [8, 16, 32],\n",
    "    \"lstm_layers\": [1, 2, 3],\n",
    "    \"num_attention_heads\": [2, 4, 8],\n",
    "    \"dropout\": [0.1, 0.2],\n",
    "    \"pl_trainer_kwargs\": [{\"accelerator\": \"cpu\"}],\n",
    "}\n",
    "\n",
    "experiment_tft = TimeseriesExperiment(\n",
    "    model_tft,\n",
    "    dataset,\n",
    "    params_fft,\n",
    "    use_pretrained_model=False,\n",
    ")\n",
    "\n",
    "experiment_tft.run()"
   ]
  },
  {
   "cell_type": "code",
   "execution_count": null,
   "metadata": {},
   "outputs": [],
   "source": [
    "from darts.models.forecasting.rnn_model import RNNModel\n",
    "\n",
    "lstm_model = RNNModel(\n",
    "    model=\"LSTM\",\n",
    "    hidden_dim=20,\n",
    "    dropout=0.1,\n",
    "    batch_size=16,\n",
    "    n_epochs=100,\n",
    "    optimizer_kwargs={\"lr\": 1e-3},\n",
    "    model_name=\"LSTM\",\n",
    "    input_chunk_length=1,\n",
    "    random_state=42,\n",
    "    pl_trainer_kwargs={\"accelerator\": \"cpu\"},\n",
    ")\n",
    "\n",
    "experiment_lstm = TimeseriesExperiment(lstm_model, dataset, retrain=True)\n",
    "\n",
    "experiment_lstm.run()"
   ]
  },
  {
   "cell_type": "markdown",
   "metadata": {},
   "source": [
    "## Results"
   ]
  },
  {
   "cell_type": "code",
   "execution_count": 2,
   "metadata": {},
   "outputs": [
    {
     "data": {
      "text/html": [
       "<div>\n",
       "<style scoped>\n",
       "    .dataframe tbody tr th:only-of-type {\n",
       "        vertical-align: middle;\n",
       "    }\n",
       "\n",
       "    .dataframe tbody tr th {\n",
       "        vertical-align: top;\n",
       "    }\n",
       "\n",
       "    .dataframe thead th {\n",
       "        text-align: right;\n",
       "    }\n",
       "</style>\n",
       "<table border=\"1\" class=\"dataframe\">\n",
       "  <thead>\n",
       "    <tr style=\"text-align: right;\">\n",
       "      <th></th>\n",
       "      <th>mape</th>\n",
       "      <th>mse</th>\n",
       "      <th>rmse</th>\n",
       "      <th>mae</th>\n",
       "      <th>model</th>\n",
       "      <th>forecast_horizon</th>\n",
       "      <th>dataset</th>\n",
       "      <th>experiment_time</th>\n",
       "      <th>parameters</th>\n",
       "    </tr>\n",
       "  </thead>\n",
       "  <tbody>\n",
       "    <tr>\n",
       "      <th>1</th>\n",
       "      <td>1120912.915588</td>\n",
       "      <td>43368500155836600.0</td>\n",
       "      <td>208251050.791675</td>\n",
       "      <td>204369426.423929</td>\n",
       "      <td>XGBModel</td>\n",
       "      <td>1</td>\n",
       "      <td>walmart-sales</td>\n",
       "      <td>1716399624.963179</td>\n",
       "      <td>{'lags': 3, 'lags_past_covariates': 1, 'lags_f...</td>\n",
       "    </tr>\n",
       "    <tr>\n",
       "      <th>7</th>\n",
       "      <td>1146331.927226</td>\n",
       "      <td>55900302631044712.0</td>\n",
       "      <td>236432448.34634</td>\n",
       "      <td>217847003.036697</td>\n",
       "      <td>NaiveSeasonal</td>\n",
       "      <td>1</td>\n",
       "      <td>walmart-sales</td>\n",
       "      <td>1716399152.406511</td>\n",
       "      <td>{'K': 1}</td>\n",
       "    </tr>\n",
       "    <tr>\n",
       "      <th>17</th>\n",
       "      <td>1113968.735192</td>\n",
       "      <td>48338790586642440.0</td>\n",
       "      <td>219860843.686734</td>\n",
       "      <td>209906036.476923</td>\n",
       "      <td>Prophet</td>\n",
       "      <td>1</td>\n",
       "      <td>walmart-sales</td>\n",
       "      <td>1716399626.680409</td>\n",
       "      <td>{'add_seasonalities': None, 'country_holidays'...</td>\n",
       "    </tr>\n",
       "    <tr>\n",
       "      <th>22</th>\n",
       "      <td>910.973558</td>\n",
       "      <td>2.090447</td>\n",
       "      <td>1.445838</td>\n",
       "      <td>0.928657</td>\n",
       "      <td>ARIMA</td>\n",
       "      <td>3</td>\n",
       "      <td>walmart-sales</td>\n",
       "      <td>1715278529.295173</td>\n",
       "      <td>{'p': 1, 'd': 1, 'q': 0, 'seasonal_order': [0,...</td>\n",
       "    </tr>\n",
       "    <tr>\n",
       "      <th>26</th>\n",
       "      <td>1258098.127406</td>\n",
       "      <td>56638252111017728.0</td>\n",
       "      <td>237987924.296628</td>\n",
       "      <td>233635604.605595</td>\n",
       "      <td>RNNModel</td>\n",
       "      <td>1</td>\n",
       "      <td>walmart-sales</td>\n",
       "      <td>1716399729.282538</td>\n",
       "      <td>{'model': 'LSTM', 'hidden_dim': 20, 'n_rnn_lay...</td>\n",
       "    </tr>\n",
       "  </tbody>\n",
       "</table>\n",
       "</div>"
      ],
      "text/plain": [
       "              mape                  mse              rmse               mae  \\\n",
       "1   1120912.915588  43368500155836600.0  208251050.791675  204369426.423929   \n",
       "7   1146331.927226  55900302631044712.0   236432448.34634  217847003.036697   \n",
       "17  1113968.735192  48338790586642440.0  219860843.686734  209906036.476923   \n",
       "22      910.973558             2.090447          1.445838          0.928657   \n",
       "26  1258098.127406  56638252111017728.0  237987924.296628  233635604.605595   \n",
       "\n",
       "            model forecast_horizon        dataset    experiment_time  \\\n",
       "1        XGBModel                1  walmart-sales  1716399624.963179   \n",
       "7   NaiveSeasonal                1  walmart-sales  1716399152.406511   \n",
       "17        Prophet                1  walmart-sales  1716399626.680409   \n",
       "22          ARIMA                3  walmart-sales  1715278529.295173   \n",
       "26       RNNModel                1  walmart-sales  1716399729.282538   \n",
       "\n",
       "                                           parameters  \n",
       "1   {'lags': 3, 'lags_past_covariates': 1, 'lags_f...  \n",
       "7                                            {'K': 1}  \n",
       "17  {'add_seasonalities': None, 'country_holidays'...  \n",
       "22  {'p': 1, 'd': 1, 'q': 0, 'seasonal_order': [0,...  \n",
       "26  {'model': 'LSTM', 'hidden_dim': 20, 'n_rnn_lay...  "
      ]
     },
     "execution_count": 2,
     "metadata": {},
     "output_type": "execute_result"
    }
   ],
   "source": [
    "from utils import read_results\n",
    "\n",
    "df = read_results()\n",
    "df = df[df[\"dataset\"] == DATASET_NAME]\n",
    "\n",
    "df"
   ]
  },
  {
   "cell_type": "code",
   "execution_count": 3,
   "metadata": {},
   "outputs": [
    {
     "data": {
      "text/plain": [
       "<Axes: xlabel='model', ylabel='mse'>"
      ]
     },
     "execution_count": 3,
     "metadata": {},
     "output_type": "execute_result"
    },
    {
     "data": {
      "image/png": "[encoded data removed]",
      "text/plain": [
       "<Figure size 640x480 with 1 Axes>"
      ]
     },
     "metadata": {},
     "output_type": "display_data"
    }
   ],
   "source": [
    "import seaborn as sns\n",
    "\n",
    "sns.barplot(data=df, x=\"model\", y=\"mse\")"
   ]
  }
 ],
 "metadata": {
  "kernelspec": {
   "display_name": "rekomendacyjne",
   "language": "python",
   "name": "python3"
  },
  "language_info": {
   "codemirror_mode": {
    "name": "ipython",
    "version": 3
   },
   "file_extension": ".py",
   "mimetype": "text/x-python",
   "name": "python",
   "nbconvert_exporter": "python",
   "pygments_lexer": "ipython3",
   "version": "3.11.8"
  }
 },
 "nbformat": 4,
 "nbformat_minor": 2
}
