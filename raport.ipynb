{
 "cells": [
  {
   "cell_type": "markdown",
   "metadata": {},
   "source": [
    "# TimeSeries prediction models comparison"
   ]
  },
  {
   "cell_type": "code",
   "execution_count": 1,
   "metadata": {},
   "outputs": [],
   "source": [
    "import pandas as pd\n",
    "from pathlib import Path\n",
    "import glob"
   ]
  },
  {
   "cell_type": "code",
   "execution_count": 8,
   "metadata": {},
   "outputs": [
    {
     "data": {
      "text/html": [
       "<div>\n",
       "<style scoped>\n",
       "    .dataframe tbody tr th:only-of-type {\n",
       "        vertical-align: middle;\n",
       "    }\n",
       "\n",
       "    .dataframe tbody tr th {\n",
       "        vertical-align: top;\n",
       "    }\n",
       "\n",
       "    .dataframe thead th {\n",
       "        text-align: right;\n",
       "    }\n",
       "</style>\n",
       "<table border=\"1\" class=\"dataframe\">\n",
       "  <thead>\n",
       "    <tr style=\"text-align: right;\">\n",
       "      <th></th>\n",
       "      <th>mape</th>\n",
       "      <th>mse</th>\n",
       "      <th>rmse</th>\n",
       "      <th>mae</th>\n",
       "      <th>model</th>\n",
       "      <th>forecast_horizon</th>\n",
       "      <th>dataset</th>\n",
       "      <th>experiment_time</th>\n",
       "      <th>parameters</th>\n",
       "    </tr>\n",
       "  </thead>\n",
       "  <tbody>\n",
       "    <tr>\n",
       "      <th>0</th>\n",
       "      <td>8.080169</td>\n",
       "      <td>0.041759</td>\n",
       "      <td>0.20435</td>\n",
       "      <td>0.089071</td>\n",
       "      <td>XGBModel</td>\n",
       "      <td>10</td>\n",
       "      <td>electricity</td>\n",
       "      <td>1715277717.013348</td>\n",
       "      <td>{'lags': 168, 'lags_past_covariates': None, 'l...</td>\n",
       "    </tr>\n",
       "    <tr>\n",
       "      <th>1</th>\n",
       "      <td>2.162213</td>\n",
       "      <td>0.002918</td>\n",
       "      <td>0.054021</td>\n",
       "      <td>0.023792</td>\n",
       "      <td>XGBModel</td>\n",
       "      <td>1</td>\n",
       "      <td>electricity</td>\n",
       "      <td>1715277716.261915</td>\n",
       "      <td>{'lags': 168, 'lags_past_covariates': None, 'l...</td>\n",
       "    </tr>\n",
       "    <tr>\n",
       "      <th>2</th>\n",
       "      <td>3.431986</td>\n",
       "      <td>0.007242</td>\n",
       "      <td>0.085102</td>\n",
       "      <td>0.037877</td>\n",
       "      <td>XGBModel</td>\n",
       "      <td>2</td>\n",
       "      <td>electricity</td>\n",
       "      <td>1715277716.445576</td>\n",
       "      <td>{'lags': 168, 'lags_past_covariates': None, 'l...</td>\n",
       "    </tr>\n",
       "    <tr>\n",
       "      <th>3</th>\n",
       "      <td>4.825865</td>\n",
       "      <td>0.014002</td>\n",
       "      <td>0.11833</td>\n",
       "      <td>0.05343</td>\n",
       "      <td>XGBModel</td>\n",
       "      <td>3</td>\n",
       "      <td>electricity</td>\n",
       "      <td>1715277716.633687</td>\n",
       "      <td>{'lags': 168, 'lags_past_covariates': None, 'l...</td>\n",
       "    </tr>\n",
       "    <tr>\n",
       "      <th>4</th>\n",
       "      <td>737.660894</td>\n",
       "      <td>2.000761</td>\n",
       "      <td>1.414483</td>\n",
       "      <td>0.876537</td>\n",
       "      <td>NaiveSeasonal</td>\n",
       "      <td>3</td>\n",
       "      <td>walmart-sales</td>\n",
       "      <td>1715278069.307275</td>\n",
       "      <td>{'K': 1}</td>\n",
       "    </tr>\n",
       "    <tr>\n",
       "      <th>5</th>\n",
       "      <td>548.406172</td>\n",
       "      <td>0.751037</td>\n",
       "      <td>0.866624</td>\n",
       "      <td>0.516863</td>\n",
       "      <td>XGBModel</td>\n",
       "      <td>3</td>\n",
       "      <td>walmart-sales</td>\n",
       "      <td>1715278088.257127</td>\n",
       "      <td>{'lags': 1, 'lags_past_covariates': None, 'lag...</td>\n",
       "    </tr>\n",
       "    <tr>\n",
       "      <th>6</th>\n",
       "      <td>910.973558</td>\n",
       "      <td>2.090447</td>\n",
       "      <td>1.445838</td>\n",
       "      <td>0.928657</td>\n",
       "      <td>ARIMA</td>\n",
       "      <td>3</td>\n",
       "      <td>walmart-sales</td>\n",
       "      <td>1715278529.295173</td>\n",
       "      <td>{'p': 1, 'd': 1, 'q': 0, 'seasonal_order': [0,...</td>\n",
       "    </tr>\n",
       "    <tr>\n",
       "      <th>7</th>\n",
       "      <td>5.957281</td>\n",
       "      <td>0.02101</td>\n",
       "      <td>0.144949</td>\n",
       "      <td>0.063442</td>\n",
       "      <td>XGBModel</td>\n",
       "      <td>5</td>\n",
       "      <td>electricity</td>\n",
       "      <td>1715277716.822633</td>\n",
       "      <td>{'lags': 168, 'lags_past_covariates': None, 'l...</td>\n",
       "    </tr>\n",
       "  </tbody>\n",
       "</table>\n",
       "</div>"
      ],
      "text/plain": [
       "         mape       mse      rmse       mae          model forecast_horizon  \\\n",
       "0    8.080169  0.041759   0.20435  0.089071       XGBModel               10   \n",
       "1    2.162213  0.002918  0.054021  0.023792       XGBModel                1   \n",
       "2    3.431986  0.007242  0.085102  0.037877       XGBModel                2   \n",
       "3    4.825865  0.014002   0.11833   0.05343       XGBModel                3   \n",
       "4  737.660894  2.000761  1.414483  0.876537  NaiveSeasonal                3   \n",
       "5  548.406172  0.751037  0.866624  0.516863       XGBModel                3   \n",
       "6  910.973558  2.090447  1.445838  0.928657          ARIMA                3   \n",
       "7    5.957281   0.02101  0.144949  0.063442       XGBModel                5   \n",
       "\n",
       "         dataset    experiment_time  \\\n",
       "0    electricity  1715277717.013348   \n",
       "1    electricity  1715277716.261915   \n",
       "2    electricity  1715277716.445576   \n",
       "3    electricity  1715277716.633687   \n",
       "4  walmart-sales  1715278069.307275   \n",
       "5  walmart-sales  1715278088.257127   \n",
       "6  walmart-sales  1715278529.295173   \n",
       "7    electricity  1715277716.822633   \n",
       "\n",
       "                                          parameters  \n",
       "0  {'lags': 168, 'lags_past_covariates': None, 'l...  \n",
       "1  {'lags': 168, 'lags_past_covariates': None, 'l...  \n",
       "2  {'lags': 168, 'lags_past_covariates': None, 'l...  \n",
       "3  {'lags': 168, 'lags_past_covariates': None, 'l...  \n",
       "4                                           {'K': 1}  \n",
       "5  {'lags': 1, 'lags_past_covariates': None, 'lag...  \n",
       "6  {'p': 1, 'd': 1, 'q': 0, 'seasonal_order': [0,...  \n",
       "7  {'lags': 168, 'lags_past_covariates': None, 'l...  "
      ]
     },
     "execution_count": 8,
     "metadata": {},
     "output_type": "execute_result"
    }
   ],
   "source": [
    "# in results directory there is a list of json files. Each contains a json object. I want to load those files to a single pandas dataframe, where each file is one row\n",
    "\n",
    "def read_results(directory='results') -> pd.DataFrame:\n",
    "    frames = []\n",
    "    for file in glob.glob(f\"{directory}/*.json\"):\n",
    "        with open(file) as f:\n",
    "            data = pd.read_json(f, typ='series', orient='index')\n",
    "            frames.append(data)\n",
    "    res = pd.concat(frames, axis=1).T\n",
    "    return res\n",
    "\n",
    "df = read_results()\n",
    "df.head(20)"
   ]
  },
  {
   "cell_type": "markdown",
   "metadata": {},
   "source": [
    "## Model comparison"
   ]
  },
  {
   "cell_type": "code",
   "execution_count": 14,
   "metadata": {},
   "outputs": [
    {
     "data": {
      "text/plain": [
       "<Axes: xlabel='model'>"
      ]
     },
     "execution_count": 14,
     "metadata": {},
     "output_type": "execute_result"
    },
    {
     "data": {
      "image/png": "[encoded data removed]",
      "text/plain": [
       "<Figure size 640x480 with 1 Axes>"
      ]
     },
     "metadata": {},
     "output_type": "display_data"
    }
   ],
   "source": [
    "df_walmart = df[df['dataset'] == 'walmart-sales']\n",
    "\n",
    "df_walmart.plot(x='model', y=['mse', 'rmse', 'mae'], kind='bar')"
   ]
  }
 ],
 "metadata": {
  "kernelspec": {
   "display_name": "rekomendacyjne",
   "language": "python",
   "name": "python3"
  },
  "language_info": {
   "codemirror_mode": {
    "name": "ipython",
    "version": 3
   },
   "file_extension": ".py",
   "mimetype": "text/x-python",
   "name": "python",
   "nbconvert_exporter": "python",
   "pygments_lexer": "ipython3",
   "version": "3.11.8"
  }
 },
 "nbformat": 4,
 "nbformat_minor": 2
}
