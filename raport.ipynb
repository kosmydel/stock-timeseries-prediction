{
 "cells": [
  {
   "cell_type": "markdown",
   "metadata": {},
   "source": [
    "# TimeSeries prediction models comparison"
   ]
  },
  {
   "cell_type": "code",
   "execution_count": 2,
   "metadata": {},
   "outputs": [],
   "source": [
    "import pandas as pd\n",
    "from pathlib import Path\n",
    "import glob"
   ]
  },
  {
   "cell_type": "code",
   "execution_count": 8,
   "metadata": {},
   "outputs": [
    {
     "data": {
      "text/html": [
       "<div>\n",
       "<style scoped>\n",
       "    .dataframe tbody tr th:only-of-type {\n",
       "        vertical-align: middle;\n",
       "    }\n",
       "\n",
       "    .dataframe tbody tr th {\n",
       "        vertical-align: top;\n",
       "    }\n",
       "\n",
       "    .dataframe thead th {\n",
       "        text-align: right;\n",
       "    }\n",
       "</style>\n",
       "<table border=\"1\" class=\"dataframe\">\n",
       "  <thead>\n",
       "    <tr style=\"text-align: right;\">\n",
       "      <th></th>\n",
       "      <th>mape</th>\n",
       "      <th>mse</th>\n",
       "      <th>rmse</th>\n",
       "      <th>mae</th>\n",
       "      <th>model</th>\n",
       "      <th>forecast_horizon</th>\n",
       "      <th>dataset</th>\n",
       "      <th>experiment_time</th>\n",
       "    </tr>\n",
       "  </thead>\n",
       "  <tbody>\n",
       "    <tr>\n",
       "      <th>0</th>\n",
       "      <td>16.98759</td>\n",
       "      <td>0.068526</td>\n",
       "      <td>0.261774</td>\n",
       "      <td>0.182606</td>\n",
       "      <td>NaiveSeasonal</td>\n",
       "      <td>3</td>\n",
       "      <td>electricity</td>\n",
       "      <td>1714385204.088733</td>\n",
       "    </tr>\n",
       "    <tr>\n",
       "      <th>1</th>\n",
       "      <td>4.24735</td>\n",
       "      <td>3411223.466054</td>\n",
       "      <td>1846.949774</td>\n",
       "      <td>1162.149136</td>\n",
       "      <td>NaiveSeasonal</td>\n",
       "      <td>3</td>\n",
       "      <td>bitcoin</td>\n",
       "      <td>1714386325.140194</td>\n",
       "    </tr>\n",
       "  </tbody>\n",
       "</table>\n",
       "</div>"
      ],
      "text/plain": [
       "       mape             mse         rmse          mae          model  \\\n",
       "0  16.98759        0.068526     0.261774     0.182606  NaiveSeasonal   \n",
       "1   4.24735  3411223.466054  1846.949774  1162.149136  NaiveSeasonal   \n",
       "\n",
       "  forecast_horizon      dataset    experiment_time  \n",
       "0                3  electricity  1714385204.088733  \n",
       "1                3      bitcoin  1714386325.140194  "
      ]
     },
     "execution_count": 8,
     "metadata": {},
     "output_type": "execute_result"
    }
   ],
   "source": [
    "# in results directory there is a list of json files. Each contains a json object. I want to load those files to a single pandas dataframe, where each file is one row\n",
    "\n",
    "def read_results(directory='results') -> pd.DataFrame:\n",
    "    frames = []\n",
    "    for file in glob.glob(f\"{directory}/*.json\"):\n",
    "        with open(file) as f:\n",
    "            data = pd.read_json(f, typ='series', orient='index')\n",
    "            frames.append(data)\n",
    "    res = pd.concat(frames, axis=1).T\n",
    "    return res\n",
    "\n",
    "df = read_results()\n",
    "df.head()"
   ]
  },
  {
   "cell_type": "markdown",
   "metadata": {},
   "source": [
    "## Model comparison"
   ]
  }
 ],
 "metadata": {
  "kernelspec": {
   "display_name": "rekomendacyjne",
   "language": "python",
   "name": "python3"
  },
  "language_info": {
   "codemirror_mode": {
    "name": "ipython",
    "version": 3
   },
   "file_extension": ".py",
   "mimetype": "text/x-python",
   "name": "python",
   "nbconvert_exporter": "python",
   "pygments_lexer": "ipython3",
   "version": "3.11.8"
  }
 },
 "nbformat": 4,
 "nbformat_minor": 2
}
